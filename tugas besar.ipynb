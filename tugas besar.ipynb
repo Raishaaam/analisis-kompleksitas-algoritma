{
  "nbformat": 4,
  "nbformat_minor": 0,
  "metadata": {
    "colab": {
      "provenance": [],
      "authorship_tag": "ABX9TyPF+XM6A/sPEp3u2wfYU3g1",
      "include_colab_link": true
    },
    "kernelspec": {
      "name": "python3",
      "display_name": "Python 3"
    },
    "language_info": {
      "name": "python"
    }
  },
  "cells": [
    {
      "cell_type": "markdown",
      "metadata": {
        "id": "view-in-github",
        "colab_type": "text"
      },
      "source": [
        "<a href=\"https://colab.research.google.com/github/Raishaaam/analisis-kompleksitas-algoritma/blob/main/tugas%20besar.ipynb\" target=\"_parent\"><img src=\"https://colab.research.google.com/assets/colab-badge.svg\" alt=\"Open In Colab\"/></a>"
      ]
    },
    {
      "cell_type": "code",
      "execution_count": null,
      "metadata": {
        "colab": {
          "base_uri": "https://localhost:8080/"
        },
        "id": "GZen9GHVrH1y",
        "outputId": "6c8e0d2a-3db4-4b6f-d1ed-c3b0e1ef8f90"
      },
      "outputs": [
        {
          "output_type": "stream",
          "name": "stdout",
          "text": [
            "Ganjil\n"
          ]
        }
      ],
      "source": [
        "number = 7\n",
        "if number % 2 == 0:\n",
        "    print(\"Genap\")\n",
        "else:\n",
        "    print(\"Ganjil\")"
      ]
    },
    {
      "cell_type": "code",
      "source": [
        "try:\n",
        "  result = 10 / 0\n",
        "except ZeroDivisionError:\n",
        "  print(\"Division by zero is not allowed\")"
      ],
      "metadata": {
        "colab": {
          "base_uri": "https://localhost:8080/"
        },
        "id": "WevnTZGGrbxw",
        "outputId": "3fef334d-18ff-448f-94cf-741870c9bf37"
      },
      "execution_count": null,
      "outputs": [
        {
          "output_type": "stream",
          "name": "stdout",
          "text": [
            "Division by zero is not allowed\n"
          ]
        }
      ]
    },
    {
      "cell_type": "code",
      "source": [
        "##Buatlah program yang menggunakan finally untuk menampilkan pesan setelah exception\n",
        "try:\n",
        "  result = 10 / 0\n",
        "except ZeroDivisionError:\n",
        "  print(\"Division by zero is not allowed\")\n",
        "finally:\n",
        "    print(\"this will execute regardless of an exception\")"
      ],
      "metadata": {
        "colab": {
          "base_uri": "https://localhost:8080/"
        },
        "id": "q9FMRIvNs7tt",
        "outputId": "cbc6ea57-2ec9-4a7e-bca1-33804a04d963"
      },
      "execution_count": null,
      "outputs": [
        {
          "output_type": "stream",
          "name": "stdout",
          "text": [
            "Division by zero is not allowed\n",
            "this will execute regardless of an exception\n"
          ]
        }
      ]
    },
    {
      "cell_type": "code",
      "source": [
        "class Person:\n",
        "  def __init__(self, name):\n",
        "    self.name = name\n",
        "\n",
        "class Mahasiswa(Person):\n",
        "  def __init__(self, name, umur):\n",
        "      super().__init__(name)\n",
        "      self.umur = umur\n",
        "\n",
        "mahasiswa = Mahasiswa(\"Aliance\", 20)\n",
        "print(mahasiswa.name, mahasiswa.umur)"
      ],
      "metadata": {
        "colab": {
          "base_uri": "https://localhost:8080/"
        },
        "id": "-UxMgdS3xbZH",
        "outputId": "530b22d3-0c56-4d01-82e1-20ee77794f76"
      },
      "execution_count": null,
      "outputs": [
        {
          "output_type": "stream",
          "name": "stdout",
          "text": [
            "Aliance 20\n"
          ]
        }
      ]
    },
    {
      "cell_type": "code",
      "source": [
        "##Buatlah method dalam class untuk mnmapilkan informasi mahasiswa\n",
        "\n",
        "class Mahasiswa:\n",
        "    def __init__(self, nama, umur, jenis_kelamin):\n",
        "        self.nama = nama\n",
        "        self.umur = umur\n",
        "        self.jk = jenis_kelamin\n",
        "\n",
        "    def tampilkan_informasi(self):\n",
        "        print(f\"Nama: (self.nama), umur: (self.umur), jenis_kelamin: (self.jk)\")"
      ],
      "metadata": {
        "id": "AT3zxlbWxZbI"
      },
      "execution_count": null,
      "outputs": []
    },
    {
      "cell_type": "code",
      "source": [
        "mhs = Mahasiswa('yanto', 98, 'Laki-laki')\n",
        "mhs.tampilkan_informasi() #memanggil fungsi untuk menampilkan informasi"
      ],
      "metadata": {
        "colab": {
          "base_uri": "https://localhost:8080/"
        },
        "id": "PvNal8UkxqFK",
        "outputId": "f852a13a-3a7f-40ea-dfa8-00f4c14fe98f"
      },
      "execution_count": null,
      "outputs": [
        {
          "output_type": "stream",
          "name": "stdout",
          "text": [
            "Nama: (self.nama), umur: (self.umur), jenis_kelamin: (self.jk)\n"
          ]
        }
      ]
    },
    {
      "cell_type": "code",
      "source": [
        "def is_prime(n):\n",
        "  \"\"\"Mengembalikan True jika n adalah bilangan prima, False jika tidak.\"\"\"\n",
        "  if n <= 1:\n",
        "    return False\n",
        "  for i in range(2, int(n**0.5) + 1):\n",
        "    if n % i == 0:\n",
        "      return False\n",
        "  return True\n",
        "\n",
        "def generate_pattern(rows):\n",
        "  \"\"\"Mencetak pola angka dengan bilangan prima.\"\"\"\n",
        "  primes = [2]  # Mulai dengan bilangan prima pertama\n",
        "  current_row = 1\n",
        "  count = 1\n",
        "  for i in range(3, 100):  # Cek bilangan sampai 100 (Anda dapat mengubah batas atas ini)\n",
        "    if is_prime(i):\n",
        "      primes.append(i)\n",
        "  while current_row <= rows:\n",
        "    for j in range(count):\n",
        "      if len(primes) >= count:\n",
        "        print(primes[count - 1], end=' ')\n",
        "        primes[count - 1] = primes[count - 1] + primes[count]\n",
        "      else:\n",
        "        print(\" \", end=' ')\n",
        "    print()\n",
        "    count += 1\n",
        "    current_row += 1\n",
        "\n",
        "# Contoh penggunaan:\n",
        "generate_pattern(5)"
      ],
      "metadata": {
        "id": "gpZNevfhpK_v",
        "outputId": "350cd815-e7a8-407c-e58f-1ffce0d3d480",
        "colab": {
          "base_uri": "https://localhost:8080/"
        }
      },
      "execution_count": null,
      "outputs": [
        {
          "output_type": "stream",
          "name": "stdout",
          "text": [
            "2 \n",
            "3 8 \n",
            "5 12 19 \n",
            "7 18 29 40 \n",
            "11 24 37 50 63 \n"
          ]
        }
      ]
    },
    {
      "cell_type": "code",
      "source": [
        "list= [1,2,3,4,5,6,7,8,9,10]"
      ],
      "metadata": {
        "id": "KmiswMcGyTdI"
      },
      "execution_count": null,
      "outputs": []
    },
    {
      "cell_type": "code",
      "source": [
        "def coinChangeGreedy(coins, n):\n",
        "total = 0\n",
        "  i = 0\n",
        "  while n != 0:\n",
        "    while i <  len(coins):\n",
        "      if coins[i] > n:\n",
        "          n -= coins[i]\n",
        "          print(\"pilih koin\", coints[i], \"tersisa\", n)\n",
        "          i-=1\n",
        "          total +=1\n",
        "      i+=1\n",
        "  return total\n",
        "\n",
        "koin = input(\"Masukkan koin: \")\n",
        "uang = input(\"Masukkan uang: \")\n",
        "\n",
        "splitKoin = koin.split(\" \")\n",
        "coins = []\n",
        "for coin in splitKoin:\n",
        "  coins.append(coin)\n",
        "coins.sort(reverse=True)\n",
        "coins = list(map(int, coint))\n",
        "print(\"\\nkoin: \", koin)\n",
        "print(\"uang: \", uang, \"\\n\")\n",
        "\n",
        "total = coinChangeGreedy(coins, int(uang))\n",
        "print(\"uang $\", uang, \"dapat ditukar menjadi\", total, \"koin\")"
      ],
      "metadata": {
        "colab": {
          "base_uri": "https://localhost:8080/",
          "height": 106
        },
        "id": "_hmFjEkbJ9Y0",
        "outputId": "ec1c8783-b890-421c-ed9a-780d205f45dd"
      },
      "execution_count": null,
      "outputs": [
        {
          "output_type": "error",
          "ename": "IndentationError",
          "evalue": "expected an indented block after function definition on line 1 (<ipython-input-3-dbcb90b6e1d6>, line 2)",
          "traceback": [
            "\u001b[0;36m  File \u001b[0;32m\"<ipython-input-3-dbcb90b6e1d6>\"\u001b[0;36m, line \u001b[0;32m2\u001b[0m\n\u001b[0;31m    total = 0\u001b[0m\n\u001b[0m    ^\u001b[0m\n\u001b[0;31mIndentationError\u001b[0m\u001b[0;31m:\u001b[0m expected an indented block after function definition on line 1\n"
          ]
        }
      ]
    },
    {
      "cell_type": "code",
      "source": [
        "def coinChangeGreedy(coins, n):\n",
        "  total = 0 # this line and the lines below should be indented\n",
        "  i = 0\n",
        "  while n != 0:\n",
        "    while i <  len(coins):\n",
        "      if coins[i] > n:\n",
        "          n -= coins[i]\n",
        "          print(\"pilih koin\", coins[i], \"tersisa\", n) # typo fix: coints to coins\n",
        "          i-=1\n",
        "          total +=1\n",
        "      i+=1\n",
        "  return total\n",
        "\n",
        "koin = input(\"Masukkan koin: \")\n",
        "uang = input(\"Masukkan uang: \")\n",
        "\n",
        "splitKoin = koin.split(\" \")\n",
        "coins = []\n",
        "for coin in splitKoin:\n",
        "  coins.append(coin)\n",
        "coins.sort(reverse=True)\n",
        "coins = list(map(int, coins)) # typo fix: coint to coins\n",
        "print(\"\\nkoin: \", koin)\n",
        "print(\"uang: \", uang, \"\\n\")\n",
        "\n",
        "total = coinChangeGreedy(coins, int(uang))\n",
        "print(\"uang $\", uang, \"dapat ditukar menjadi\", total, \"koin\")"
      ],
      "metadata": {
        "colab": {
          "base_uri": "https://localhost:8080/",
          "height": 384
        },
        "id": "iNrk0gWOWaIZ",
        "outputId": "707e863c-4651-4487-9cee-13441e1bcbde"
      },
      "execution_count": null,
      "outputs": [
        {
          "metadata": {
            "tags": null
          },
          "name": "stdout",
          "output_type": "stream",
          "text": [
            "\n",
            "koin:  1 2 5\n",
            "uang:  18 \n",
            "\n"
          ]
        },
        {
          "output_type": "error",
          "ename": "KeyboardInterrupt",
          "evalue": "",
          "traceback": [
            "\u001b[0;31m---------------------------------------------------------------------------\u001b[0m",
            "\u001b[0;31mKeyboardInterrupt\u001b[0m                         Traceback (most recent call last)",
            "\u001b[0;32m<ipython-input-8-56c090519936>\u001b[0m in \u001b[0;36m<cell line: 26>\u001b[0;34m()\u001b[0m\n\u001b[1;32m     24\u001b[0m \u001b[0mprint\u001b[0m\u001b[0;34m(\u001b[0m\u001b[0;34m\"uang: \"\u001b[0m\u001b[0;34m,\u001b[0m \u001b[0muang\u001b[0m\u001b[0;34m,\u001b[0m \u001b[0;34m\"\\n\"\u001b[0m\u001b[0;34m)\u001b[0m\u001b[0;34m\u001b[0m\u001b[0;34m\u001b[0m\u001b[0m\n\u001b[1;32m     25\u001b[0m \u001b[0;34m\u001b[0m\u001b[0m\n\u001b[0;32m---> 26\u001b[0;31m \u001b[0mtotal\u001b[0m \u001b[0;34m=\u001b[0m \u001b[0mcoinChangeGreedy\u001b[0m\u001b[0;34m(\u001b[0m\u001b[0mcoins\u001b[0m\u001b[0;34m,\u001b[0m \u001b[0mint\u001b[0m\u001b[0;34m(\u001b[0m\u001b[0muang\u001b[0m\u001b[0;34m)\u001b[0m\u001b[0;34m)\u001b[0m\u001b[0;34m\u001b[0m\u001b[0;34m\u001b[0m\u001b[0m\n\u001b[0m\u001b[1;32m     27\u001b[0m \u001b[0mprint\u001b[0m\u001b[0;34m(\u001b[0m\u001b[0;34m\"uang $\"\u001b[0m\u001b[0;34m,\u001b[0m \u001b[0muang\u001b[0m\u001b[0;34m,\u001b[0m \u001b[0;34m\"dapat ditukar menjadi\"\u001b[0m\u001b[0;34m,\u001b[0m \u001b[0mtotal\u001b[0m\u001b[0;34m,\u001b[0m \u001b[0;34m\"koin\"\u001b[0m\u001b[0;34m)\u001b[0m\u001b[0;34m\u001b[0m\u001b[0;34m\u001b[0m\u001b[0m\n",
            "\u001b[0;32m<ipython-input-8-56c090519936>\u001b[0m in \u001b[0;36mcoinChangeGreedy\u001b[0;34m(coins, n)\u001b[0m\n\u001b[1;32m      3\u001b[0m   \u001b[0mi\u001b[0m \u001b[0;34m=\u001b[0m \u001b[0;36m0\u001b[0m\u001b[0;34m\u001b[0m\u001b[0;34m\u001b[0m\u001b[0m\n\u001b[1;32m      4\u001b[0m   \u001b[0;32mwhile\u001b[0m \u001b[0mn\u001b[0m \u001b[0;34m!=\u001b[0m \u001b[0;36m0\u001b[0m\u001b[0;34m:\u001b[0m\u001b[0;34m\u001b[0m\u001b[0;34m\u001b[0m\u001b[0m\n\u001b[0;32m----> 5\u001b[0;31m     \u001b[0;32mwhile\u001b[0m \u001b[0mi\u001b[0m \u001b[0;34m<\u001b[0m  \u001b[0mlen\u001b[0m\u001b[0;34m(\u001b[0m\u001b[0mcoins\u001b[0m\u001b[0;34m)\u001b[0m\u001b[0;34m:\u001b[0m\u001b[0;34m\u001b[0m\u001b[0;34m\u001b[0m\u001b[0m\n\u001b[0m\u001b[1;32m      6\u001b[0m       \u001b[0;32mif\u001b[0m \u001b[0mcoins\u001b[0m\u001b[0;34m[\u001b[0m\u001b[0mi\u001b[0m\u001b[0;34m]\u001b[0m \u001b[0;34m>\u001b[0m \u001b[0mn\u001b[0m\u001b[0;34m:\u001b[0m\u001b[0;34m\u001b[0m\u001b[0;34m\u001b[0m\u001b[0m\n\u001b[1;32m      7\u001b[0m           \u001b[0mn\u001b[0m \u001b[0;34m-=\u001b[0m \u001b[0mcoins\u001b[0m\u001b[0;34m[\u001b[0m\u001b[0mi\u001b[0m\u001b[0;34m]\u001b[0m\u001b[0;34m\u001b[0m\u001b[0;34m\u001b[0m\u001b[0m\n",
            "\u001b[0;31mKeyboardInterrupt\u001b[0m: "
          ]
        }
      ]
    },
    {
      "cell_type": "code",
      "source": [],
      "metadata": {
        "id": "zcaL_JXXeDrr"
      },
      "execution_count": null,
      "outputs": []
    },
    {
      "cell_type": "code",
      "source": [
        "def coinChangeGreedy(coins, n):\n",
        "  total = 0\n",
        "  i = 0\n",
        "  while n != 0:\n",
        "    while i <  len(coins):\n",
        "      if coins[i] > n:\n",
        "          n -= coins[i]\n",
        "          print(\"pilih koin\", coins[i], \"tersisa\", n)\n",
        "          i-=1\n",
        "          total +=1\n",
        "      i+=1\n",
        "  return total\n",
        "\n",
        "koin = input(\"Masukkan koin: \")\n",
        "uang = input(\"Masukkan uang: \")\n",
        "\n",
        "splitKoin = koin.split(\" \")\n",
        "coins = []\n",
        "for coin in splitKoin:\n",
        "  coins.append(coin)\n",
        "coins.sort(reverse=True)\n",
        "coins = list(map(int, coins))\n",
        "print(\"\\nkoin: \", koin)\n",
        "print(\"uang: \", uang, \"\\n\")\n",
        "\n",
        "total = coinChangeGreedy(coins, int(uang))\n",
        "print(\"uang $\", uang, \"dapat ditukar menjadi\", total, \"koin\")"
      ],
      "metadata": {
        "colab": {
          "base_uri": "https://localhost:8080/",
          "height": 356
        },
        "id": "53x9Nvvhdf3P",
        "outputId": "c53dc565-f19f-4438-8e54-82df9a21f854"
      },
      "execution_count": null,
      "outputs": [
        {
          "output_type": "error",
          "ename": "KeyboardInterrupt",
          "evalue": "Interrupted by user",
          "traceback": [
            "\u001b[0;31m---------------------------------------------------------------------------\u001b[0m",
            "\u001b[0;31mKeyboardInterrupt\u001b[0m                         Traceback (most recent call last)",
            "\u001b[0;32m<ipython-input-9-53d0ed246e52>\u001b[0m in \u001b[0;36m<cell line: 14>\u001b[0;34m()\u001b[0m\n\u001b[1;32m     12\u001b[0m   \u001b[0;32mreturn\u001b[0m \u001b[0mtotal\u001b[0m\u001b[0;34m\u001b[0m\u001b[0;34m\u001b[0m\u001b[0m\n\u001b[1;32m     13\u001b[0m \u001b[0;34m\u001b[0m\u001b[0m\n\u001b[0;32m---> 14\u001b[0;31m \u001b[0mkoin\u001b[0m \u001b[0;34m=\u001b[0m \u001b[0minput\u001b[0m\u001b[0;34m(\u001b[0m\u001b[0;34m\"Masukkan koin: \"\u001b[0m\u001b[0;34m)\u001b[0m\u001b[0;34m\u001b[0m\u001b[0;34m\u001b[0m\u001b[0m\n\u001b[0m\u001b[1;32m     15\u001b[0m \u001b[0muang\u001b[0m \u001b[0;34m=\u001b[0m \u001b[0minput\u001b[0m\u001b[0;34m(\u001b[0m\u001b[0;34m\"Masukkan uang: \"\u001b[0m\u001b[0;34m)\u001b[0m\u001b[0;34m\u001b[0m\u001b[0;34m\u001b[0m\u001b[0m\n\u001b[1;32m     16\u001b[0m \u001b[0;34m\u001b[0m\u001b[0m\n",
            "\u001b[0;32m/usr/local/lib/python3.10/dist-packages/ipykernel/kernelbase.py\u001b[0m in \u001b[0;36mraw_input\u001b[0;34m(self, prompt)\u001b[0m\n\u001b[1;32m    849\u001b[0m                 \u001b[0;34m\"raw_input was called, but this frontend does not support input requests.\"\u001b[0m\u001b[0;34m\u001b[0m\u001b[0;34m\u001b[0m\u001b[0m\n\u001b[1;32m    850\u001b[0m             )\n\u001b[0;32m--> 851\u001b[0;31m         return self._input_request(str(prompt),\n\u001b[0m\u001b[1;32m    852\u001b[0m             \u001b[0mself\u001b[0m\u001b[0;34m.\u001b[0m\u001b[0m_parent_ident\u001b[0m\u001b[0;34m,\u001b[0m\u001b[0;34m\u001b[0m\u001b[0;34m\u001b[0m\u001b[0m\n\u001b[1;32m    853\u001b[0m             \u001b[0mself\u001b[0m\u001b[0;34m.\u001b[0m\u001b[0m_parent_header\u001b[0m\u001b[0;34m,\u001b[0m\u001b[0;34m\u001b[0m\u001b[0;34m\u001b[0m\u001b[0m\n",
            "\u001b[0;32m/usr/local/lib/python3.10/dist-packages/ipykernel/kernelbase.py\u001b[0m in \u001b[0;36m_input_request\u001b[0;34m(self, prompt, ident, parent, password)\u001b[0m\n\u001b[1;32m    893\u001b[0m             \u001b[0;32mexcept\u001b[0m \u001b[0mKeyboardInterrupt\u001b[0m\u001b[0;34m:\u001b[0m\u001b[0;34m\u001b[0m\u001b[0;34m\u001b[0m\u001b[0m\n\u001b[1;32m    894\u001b[0m                 \u001b[0;31m# re-raise KeyboardInterrupt, to truncate traceback\u001b[0m\u001b[0;34m\u001b[0m\u001b[0;34m\u001b[0m\u001b[0m\n\u001b[0;32m--> 895\u001b[0;31m                 \u001b[0;32mraise\u001b[0m \u001b[0mKeyboardInterrupt\u001b[0m\u001b[0;34m(\u001b[0m\u001b[0;34m\"Interrupted by user\"\u001b[0m\u001b[0;34m)\u001b[0m \u001b[0;32mfrom\u001b[0m \u001b[0;32mNone\u001b[0m\u001b[0;34m\u001b[0m\u001b[0;34m\u001b[0m\u001b[0m\n\u001b[0m\u001b[1;32m    896\u001b[0m             \u001b[0;32mexcept\u001b[0m \u001b[0mException\u001b[0m \u001b[0;32mas\u001b[0m \u001b[0me\u001b[0m\u001b[0;34m:\u001b[0m\u001b[0;34m\u001b[0m\u001b[0;34m\u001b[0m\u001b[0m\n\u001b[1;32m    897\u001b[0m                 \u001b[0mself\u001b[0m\u001b[0;34m.\u001b[0m\u001b[0mlog\u001b[0m\u001b[0;34m.\u001b[0m\u001b[0mwarning\u001b[0m\u001b[0;34m(\u001b[0m\u001b[0;34m\"Invalid Message:\"\u001b[0m\u001b[0;34m,\u001b[0m \u001b[0mexc_info\u001b[0m\u001b[0;34m=\u001b[0m\u001b[0;32mTrue\u001b[0m\u001b[0;34m)\u001b[0m\u001b[0;34m\u001b[0m\u001b[0;34m\u001b[0m\u001b[0m\n",
            "\u001b[0;31mKeyboardInterrupt\u001b[0m: Interrupted by user"
          ]
        }
      ]
    },
    {
      "cell_type": "code",
      "source": [
        "def coinchange(coins, n):\n",
        "    total = 0\n",
        "    i = 0\n",
        "    while n != 0:\n",
        "        while i < len(coins):\n",
        "            if coins[i] <= n:\n",
        "                n -= coins[i]\n",
        "                print(\"pilih koin\", coins[i], \"tersisa\", n)\n",
        "                i -= 1\n",
        "                total += 1\n",
        "            i += 1\n",
        "    return total\n",
        "\n",
        "koin = input(\"masukkan koin: \")\n",
        "uang = input(\"masukkan uang: \")\n",
        "\n",
        "splitkoin = koin.split(\" \")\n",
        "coins = []\n",
        "for coin in splitkoin:\n",
        "    coins.append(coin)\n",
        "coins.sort(reverse=True)\n",
        "coins = list(map(int, coins))\n",
        "print(\"\\nkoin:\", koin)\n",
        "print(\"uang: \", uang, \"\\n\")\n",
        "\n",
        "total = coinchange(coins, int(uang))\n",
        "print(\"uang $\", uang, \"dapat ditukar menjadi: \", total, \"koin\")"
      ],
      "metadata": {
        "colab": {
          "base_uri": "https://localhost:8080/"
        },
        "id": "CPCBxbKedrn0",
        "outputId": "d7539b52-5fff-4cb0-db76-c6f9d4e7fc11"
      },
      "execution_count": null,
      "outputs": [
        {
          "output_type": "stream",
          "name": "stdout",
          "text": [
            "masukkan koin: 1 2 5\n",
            "masukkan uang: 18\n",
            "\n",
            "koin: 1 2 5\n",
            "uang:  18 \n",
            "\n",
            "pilih koin 5 tersisa 13\n",
            "pilih koin 5 tersisa 8\n",
            "pilih koin 5 tersisa 3\n",
            "pilih koin 2 tersisa 1\n",
            "pilih koin 1 tersisa 0\n",
            "uang $ 18 dapat ditukar menjadi:  5 koin\n"
          ]
        }
      ]
    },
    {
      "cell_type": "code",
      "source": [
        "import random\n",
        "\n",
        "acak = random.randiant(1, 100)\n",
        "peluang = 0\n",
        "while peluang > 0:\n",
        "  data = int(input(\"Masukkan angka tebakan: \"))\n",
        "  if data > acak:\n",
        "    peluang -= 1\n",
        "    print(\"Angka tebakan nilainya lebih kecil\")\n",
        "    print(f'Tersisa {peluang} kesempatan\\n')\n",
        "\n",
        "  if data < acak:\n",
        "    peluang = 1\n",
        "    print(\"Angka tebakan nilainya lebih kecil\")\n",
        "    print(f' Tersisa {peluang} kesempetan\\n')\n",
        "\n",
        "  if data == acak:\n",
        "      peluang -= 1\n",
        "      print(\"Selamat, tebakan anda benar\")\n",
        "      print(f'Tersisa {peluang} kesempatan\\n')\n",
        "      break\n",
        "\n",
        "   if peluang == 0:\n",
        "    print(\"Kesempatanmu telah habis, game over\")\n",
        "    print(f\"Angka tebakan adalah {peluang}\")"
      ],
      "metadata": {
        "colab": {
          "base_uri": "https://localhost:8080/",
          "height": 106
        },
        "id": "vHXzpcPshIIc",
        "outputId": "ad318bc7-854c-41f3-c4d4-ca85a580e5bc"
      },
      "execution_count": null,
      "outputs": [
        {
          "output_type": "error",
          "ename": "IndentationError",
          "evalue": "unindent does not match any outer indentation level (<tokenize>, line 23)",
          "traceback": [
            "\u001b[0;36m  File \u001b[0;32m\"<tokenize>\"\u001b[0;36m, line \u001b[0;32m23\u001b[0m\n\u001b[0;31m    if peluang == 0:\u001b[0m\n\u001b[0m    ^\u001b[0m\n\u001b[0;31mIndentationError\u001b[0m\u001b[0;31m:\u001b[0m unindent does not match any outer indentation level\n"
          ]
        }
      ]
    },
    {
      "cell_type": "code",
      "source": [
        "import random\n",
        "\n",
        "acak = random.randint(1, 100)\n",
        "peluang = 10\n",
        "while peluang > 0:\n",
        "  data = int(input(\"Masukkan angka tebakan: \"))\n",
        "  if data > acak:\n",
        "    peluang -= 1\n",
        "    print(\"Angka tebakan nilainya lebih besar\")\n",
        "    print(f'Tersisa {peluang} kesempatan\\n')\n",
        "\n",
        "  if data < acak:\n",
        "    peluang -= 1\n",
        "    print(\"Angka tebakan nilainya lebih kecil\")\n",
        "    print(f' Tersisa {peluang} kesempatan\\n')\n",
        "  if data == acak:\n",
        "      peluang -= 1\n",
        "      print(\"Selamat, tebakan anda benar\")\n",
        "      print(f'Tersisa {peluang} kesempatan\\n')\n",
        "      break\n",
        "\n",
        "  if peluang == 0: # Fixed indentation\n",
        "    print(\"Kesempatanmu telah habis, game over\")\n",
        "    print(f\"Angka tebakan adalah {acak}\") # Print the correct number (acak)"
      ],
      "metadata": {
        "colab": {
          "base_uri": "https://localhost:8080/"
        },
        "id": "LHKPveLCkh2L",
        "outputId": "c6c19b9a-cd24-42a4-d464-f383e045341c"
      },
      "execution_count": null,
      "outputs": [
        {
          "output_type": "stream",
          "name": "stdout",
          "text": [
            "Masukkan angka tebakan: 41\n",
            "Angka tebakan nilainya lebih besar\n",
            "Tersisa 9 kesempatan\n",
            "\n",
            "Masukkan angka tebakan: 35\n",
            "Angka tebakan nilainya lebih besar\n",
            "Tersisa 8 kesempatan\n",
            "\n",
            "Masukkan angka tebakan: 31\n",
            "Angka tebakan nilainya lebih kecil\n",
            " Tersisa 7 kesempatan\n",
            "\n",
            "Masukkan angka tebakan: 33\n",
            "Selamat, tebakan anda benar\n",
            "Tersisa 6 kesempatan\n",
            "\n"
          ]
        }
      ]
    },
    {
      "cell_type": "code",
      "source": [
        "from datetime import datetime\n",
        "\n",
        "class Buku:\n",
        "    def _init_(self, judul, penulis, tahun_terbit):\n",
        "        self.judul = judul\n",
        "        self.penulis = penulis\n",
        "        self.tahun_terbit = tahun_terbit\n",
        "\n",
        "    def tampilkan_informasi(self):\n",
        "        print(f\"Judul: {self.judul}\")\n",
        "        print(f\"Penulis: {self.penulis}\")\n",
        "        print(f\"Tahun Terbit: {self.tahun_terbit}\")\n",
        "\n",
        "    def hitung_usia(self):\n",
        "        tahun_sekarang = datetime.now().year\n",
        "        usia = tahun_sekarang - self.tahun_terbit\n",
        "        return usia\n",
        "\n",
        "buku1 = Buku(\"Laskar Pelangi\", \"Andrea Hirata\", 2005)\n",
        "buku2 = Buku(\"Bumi Manusia\", \"Pramoedya Ananta Toer\", 1980)\n",
        "buku3 = Buku(\"Harry Potter dan Batu Bertuah\", \"J.K. Rowling\", 1997)\n",
        "\n",
        "for buku in (buku1, buku2, buku3):\n",
        "    buku.tampilkan_informasi()\n",
        "    print(f\"Usia buku: {buku.hitung_usia()} tahun\\n\")"
      ],
      "metadata": {
        "colab": {
          "base_uri": "https://localhost:8080/",
          "height": 211
        },
        "id": "2dM-suk5eF8Y",
        "outputId": "2533887b-4dc2-4490-b845-fb27c2ab1a4d"
      },
      "execution_count": null,
      "outputs": [
        {
          "output_type": "error",
          "ename": "TypeError",
          "evalue": "Buku() takes no arguments",
          "traceback": [
            "\u001b[0;31m---------------------------------------------------------------------------\u001b[0m",
            "\u001b[0;31mTypeError\u001b[0m                                 Traceback (most recent call last)",
            "\u001b[0;32m<ipython-input-1-c616b2d2bc4c>\u001b[0m in \u001b[0;36m<cell line: 19>\u001b[0;34m()\u001b[0m\n\u001b[1;32m     17\u001b[0m         \u001b[0;32mreturn\u001b[0m \u001b[0musia\u001b[0m\u001b[0;34m\u001b[0m\u001b[0;34m\u001b[0m\u001b[0m\n\u001b[1;32m     18\u001b[0m \u001b[0;34m\u001b[0m\u001b[0m\n\u001b[0;32m---> 19\u001b[0;31m \u001b[0mbuku1\u001b[0m \u001b[0;34m=\u001b[0m \u001b[0mBuku\u001b[0m\u001b[0;34m(\u001b[0m\u001b[0;34m\"Laskar Pelangi\"\u001b[0m\u001b[0;34m,\u001b[0m \u001b[0;34m\"Andrea Hirata\"\u001b[0m\u001b[0;34m,\u001b[0m \u001b[0;36m2005\u001b[0m\u001b[0;34m)\u001b[0m\u001b[0;34m\u001b[0m\u001b[0;34m\u001b[0m\u001b[0m\n\u001b[0m\u001b[1;32m     20\u001b[0m \u001b[0mbuku2\u001b[0m \u001b[0;34m=\u001b[0m \u001b[0mBuku\u001b[0m\u001b[0;34m(\u001b[0m\u001b[0;34m\"Bumi Manusia\"\u001b[0m\u001b[0;34m,\u001b[0m \u001b[0;34m\"Pramoedya Ananta Toer\"\u001b[0m\u001b[0;34m,\u001b[0m \u001b[0;36m1980\u001b[0m\u001b[0;34m)\u001b[0m\u001b[0;34m\u001b[0m\u001b[0;34m\u001b[0m\u001b[0m\n\u001b[1;32m     21\u001b[0m \u001b[0mbuku3\u001b[0m \u001b[0;34m=\u001b[0m \u001b[0mBuku\u001b[0m\u001b[0;34m(\u001b[0m\u001b[0;34m\"Harry Potter dan Batu Bertuah\"\u001b[0m\u001b[0;34m,\u001b[0m \u001b[0;34m\"J.K. Rowling\"\u001b[0m\u001b[0;34m,\u001b[0m \u001b[0;36m1997\u001b[0m\u001b[0;34m)\u001b[0m\u001b[0;34m\u001b[0m\u001b[0;34m\u001b[0m\u001b[0m\n",
            "\u001b[0;31mTypeError\u001b[0m: Buku() takes no arguments"
          ]
        }
      ]
    },
    {
      "cell_type": "code",
      "source": [
        "from datetime import datetime\n",
        "\n",
        "class Buku:\n",
        "    def __init__(self, judul, penulis, tahun_terbit): # Changed _init_ to __init__\n",
        "        self.judul = judul\n",
        "        self.penulis = penulis\n",
        "        self.tahun_terbit = tahun_terbit\n",
        "\n",
        "    def tampilkan_informasi(self):\n",
        "        print(f\"Judul: {self.judul}\")\n",
        "        print(f\"Penulis: {self.penulis}\")\n",
        "        print(f\"Tahun Terbit: {self.tahun_terbit}\")\n",
        "\n",
        "    def hitung_usia(self):\n",
        "        tahun_sekarang = datetime.now().year\n",
        "        usia = tahun_sekarang - self.tahun_terbit\n",
        "        return usia\n",
        "\n",
        "buku1 = Buku(\"Laskar Pelangi\", \"Andrea Hirata\", 2005)\n",
        "buku2 = Buku(\"Bumi Manusia\", \"Pramoedya Ananta Toer\", 1980)\n",
        "buku3 = Buku(\"Harry Potter dan Batu Bertuah\", \"J.K. Rowling\", 1997)\n",
        "\n",
        "for buku in (buku1, buku2, buku3):\n",
        "    buku.tampilkan_informasi()\n",
        "    print(f\"Usia buku: {buku.hitung_usia()} tahun\\n\")"
      ],
      "metadata": {
        "id": "X9hpr7oseoWg",
        "outputId": "2e9a1f3c-3a44-4fa4-a8f3-1da09cc6f605",
        "colab": {
          "base_uri": "https://localhost:8080/"
        }
      },
      "execution_count": null,
      "outputs": [
        {
          "output_type": "stream",
          "name": "stdout",
          "text": [
            "Judul: Laskar Pelangi\n",
            "Penulis: Andrea Hirata\n",
            "Tahun Terbit: 2005\n",
            "Usia buku: 19 tahun\n",
            "\n",
            "Judul: Bumi Manusia\n",
            "Penulis: Pramoedya Ananta Toer\n",
            "Tahun Terbit: 1980\n",
            "Usia buku: 44 tahun\n",
            "\n",
            "Judul: Harry Potter dan Batu Bertuah\n",
            "Penulis: J.K. Rowling\n",
            "Tahun Terbit: 1997\n",
            "Usia buku: 27 tahun\n",
            "\n"
          ]
        }
      ]
    },
    {
      "cell_type": "code",
      "source": [
        "def coinchange(coins, n):\n",
        "    total = 0\n",
        "    i = 0\n",
        "    while n != 0:\n",
        "        while i < len(coins):\n",
        "            if coins[i] <= n:\n",
        "                n -= coins[i]\n",
        "                print(\"pilih koin\", coins[i], \"tersisa\", n)\n",
        "                i -= 1\n",
        "                total += 1\n",
        "            i += 1\n",
        "    return total\n",
        "\n",
        "koin = input(\"masukkan koin: \")\n",
        "uang = input(\"masukkan uang: \")\n",
        "\n",
        "splitkoin = koin.split(\" \")\n",
        "coins = []\n",
        "for coin in splitkoin:\n",
        "    coins.append(coin)\n",
        "coins.sort(reverse=True)\n",
        "coins = list(map(int, coins))\n",
        "print(\"\\nkoin:\", koin)\n",
        "print(\"uang: \", uang, \"\\n\")\n",
        "\n",
        "total = coinchange(coins, int(uang))\n",
        "print(\"uang $\", uang, \"dapat ditukar menjadi: \", total, \"koin\")"
      ],
      "metadata": {
        "colab": {
          "base_uri": "https://localhost:8080/"
        },
        "id": "CEsWdMQEAPFH",
        "outputId": "32b24083-5c01-4075-e849-906160ea72b6"
      },
      "execution_count": null,
      "outputs": [
        {
          "output_type": "stream",
          "name": "stdout",
          "text": [
            "masukkan koin: 1\n",
            "masukkan uang: 15\n",
            "\n",
            "koin: 1\n",
            "uang:  15 \n",
            "\n",
            "pilih koin 1 tersisa 14\n",
            "pilih koin 1 tersisa 13\n",
            "pilih koin 1 tersisa 12\n",
            "pilih koin 1 tersisa 11\n",
            "pilih koin 1 tersisa 10\n",
            "pilih koin 1 tersisa 9\n",
            "pilih koin 1 tersisa 8\n",
            "pilih koin 1 tersisa 7\n",
            "pilih koin 1 tersisa 6\n",
            "pilih koin 1 tersisa 5\n",
            "pilih koin 1 tersisa 4\n",
            "pilih koin 1 tersisa 3\n",
            "pilih koin 1 tersisa 2\n",
            "pilih koin 1 tersisa 1\n",
            "pilih koin 1 tersisa 0\n",
            "uang $ 15 dapat ditukar menjadi:  15 koin\n"
          ]
        }
      ]
    },
    {
      "cell_type": "code",
      "source": [
        "import pandas as pd\n",
        "\n",
        "data = pd.read_csv(\"D:\\Semester 3\\IPSD-Assigment\\Movie_classification.csv\")\n",
        "print(data)\n"
      ],
      "metadata": {
        "id": "CcYV8tRIA-8I",
        "colab": {
          "base_uri": "https://localhost:8080/",
          "height": 356
        },
        "outputId": "d3a96189-9ec9-4cf8-db94-09ed881b8d9b"
      },
      "execution_count": null,
      "outputs": [
        {
          "output_type": "error",
          "ename": "FileNotFoundError",
          "evalue": "[Errno 2] No such file or directory: 'D:\\\\Semester 3\\\\IPSD-Assigment\\\\Movie_classification.csv'",
          "traceback": [
            "\u001b[0;31m---------------------------------------------------------------------------\u001b[0m",
            "\u001b[0;31mFileNotFoundError\u001b[0m                         Traceback (most recent call last)",
            "\u001b[0;32m<ipython-input-4-b172dec5be1d>\u001b[0m in \u001b[0;36m<cell line: 3>\u001b[0;34m()\u001b[0m\n\u001b[1;32m      1\u001b[0m \u001b[0;32mimport\u001b[0m \u001b[0mpandas\u001b[0m \u001b[0;32mas\u001b[0m \u001b[0mpd\u001b[0m\u001b[0;34m\u001b[0m\u001b[0;34m\u001b[0m\u001b[0m\n\u001b[1;32m      2\u001b[0m \u001b[0;34m\u001b[0m\u001b[0m\n\u001b[0;32m----> 3\u001b[0;31m \u001b[0mdata\u001b[0m \u001b[0;34m=\u001b[0m \u001b[0mpd\u001b[0m\u001b[0;34m.\u001b[0m\u001b[0mread_csv\u001b[0m\u001b[0;34m(\u001b[0m\u001b[0;34m\"D:\\Semester 3\\IPSD-Assigment\\Movie_classification.csv\"\u001b[0m\u001b[0;34m)\u001b[0m\u001b[0;34m\u001b[0m\u001b[0;34m\u001b[0m\u001b[0m\n\u001b[0m\u001b[1;32m      4\u001b[0m \u001b[0mprint\u001b[0m\u001b[0;34m(\u001b[0m\u001b[0mdata\u001b[0m\u001b[0;34m)\u001b[0m\u001b[0;34m\u001b[0m\u001b[0;34m\u001b[0m\u001b[0m\n",
            "\u001b[0;32m/usr/local/lib/python3.10/dist-packages/pandas/io/parsers/readers.py\u001b[0m in \u001b[0;36mread_csv\u001b[0;34m(filepath_or_buffer, sep, delimiter, header, names, index_col, usecols, dtype, engine, converters, true_values, false_values, skipinitialspace, skiprows, skipfooter, nrows, na_values, keep_default_na, na_filter, verbose, skip_blank_lines, parse_dates, infer_datetime_format, keep_date_col, date_parser, date_format, dayfirst, cache_dates, iterator, chunksize, compression, thousands, decimal, lineterminator, quotechar, quoting, doublequote, escapechar, comment, encoding, encoding_errors, dialect, on_bad_lines, delim_whitespace, low_memory, memory_map, float_precision, storage_options, dtype_backend)\u001b[0m\n\u001b[1;32m    946\u001b[0m     \u001b[0mkwds\u001b[0m\u001b[0;34m.\u001b[0m\u001b[0mupdate\u001b[0m\u001b[0;34m(\u001b[0m\u001b[0mkwds_defaults\u001b[0m\u001b[0;34m)\u001b[0m\u001b[0;34m\u001b[0m\u001b[0;34m\u001b[0m\u001b[0m\n\u001b[1;32m    947\u001b[0m \u001b[0;34m\u001b[0m\u001b[0m\n\u001b[0;32m--> 948\u001b[0;31m     \u001b[0;32mreturn\u001b[0m \u001b[0m_read\u001b[0m\u001b[0;34m(\u001b[0m\u001b[0mfilepath_or_buffer\u001b[0m\u001b[0;34m,\u001b[0m \u001b[0mkwds\u001b[0m\u001b[0;34m)\u001b[0m\u001b[0;34m\u001b[0m\u001b[0;34m\u001b[0m\u001b[0m\n\u001b[0m\u001b[1;32m    949\u001b[0m \u001b[0;34m\u001b[0m\u001b[0m\n\u001b[1;32m    950\u001b[0m \u001b[0;34m\u001b[0m\u001b[0m\n",
            "\u001b[0;32m/usr/local/lib/python3.10/dist-packages/pandas/io/parsers/readers.py\u001b[0m in \u001b[0;36m_read\u001b[0;34m(filepath_or_buffer, kwds)\u001b[0m\n\u001b[1;32m    609\u001b[0m \u001b[0;34m\u001b[0m\u001b[0m\n\u001b[1;32m    610\u001b[0m     \u001b[0;31m# Create the parser.\u001b[0m\u001b[0;34m\u001b[0m\u001b[0;34m\u001b[0m\u001b[0m\n\u001b[0;32m--> 611\u001b[0;31m     \u001b[0mparser\u001b[0m \u001b[0;34m=\u001b[0m \u001b[0mTextFileReader\u001b[0m\u001b[0;34m(\u001b[0m\u001b[0mfilepath_or_buffer\u001b[0m\u001b[0;34m,\u001b[0m \u001b[0;34m**\u001b[0m\u001b[0mkwds\u001b[0m\u001b[0;34m)\u001b[0m\u001b[0;34m\u001b[0m\u001b[0;34m\u001b[0m\u001b[0m\n\u001b[0m\u001b[1;32m    612\u001b[0m \u001b[0;34m\u001b[0m\u001b[0m\n\u001b[1;32m    613\u001b[0m     \u001b[0;32mif\u001b[0m \u001b[0mchunksize\u001b[0m \u001b[0;32mor\u001b[0m \u001b[0miterator\u001b[0m\u001b[0;34m:\u001b[0m\u001b[0;34m\u001b[0m\u001b[0;34m\u001b[0m\u001b[0m\n",
            "\u001b[0;32m/usr/local/lib/python3.10/dist-packages/pandas/io/parsers/readers.py\u001b[0m in \u001b[0;36m__init__\u001b[0;34m(self, f, engine, **kwds)\u001b[0m\n\u001b[1;32m   1446\u001b[0m \u001b[0;34m\u001b[0m\u001b[0m\n\u001b[1;32m   1447\u001b[0m         \u001b[0mself\u001b[0m\u001b[0;34m.\u001b[0m\u001b[0mhandles\u001b[0m\u001b[0;34m:\u001b[0m \u001b[0mIOHandles\u001b[0m \u001b[0;34m|\u001b[0m \u001b[0;32mNone\u001b[0m \u001b[0;34m=\u001b[0m \u001b[0;32mNone\u001b[0m\u001b[0;34m\u001b[0m\u001b[0;34m\u001b[0m\u001b[0m\n\u001b[0;32m-> 1448\u001b[0;31m         \u001b[0mself\u001b[0m\u001b[0;34m.\u001b[0m\u001b[0m_engine\u001b[0m \u001b[0;34m=\u001b[0m \u001b[0mself\u001b[0m\u001b[0;34m.\u001b[0m\u001b[0m_make_engine\u001b[0m\u001b[0;34m(\u001b[0m\u001b[0mf\u001b[0m\u001b[0;34m,\u001b[0m \u001b[0mself\u001b[0m\u001b[0;34m.\u001b[0m\u001b[0mengine\u001b[0m\u001b[0;34m)\u001b[0m\u001b[0;34m\u001b[0m\u001b[0;34m\u001b[0m\u001b[0m\n\u001b[0m\u001b[1;32m   1449\u001b[0m \u001b[0;34m\u001b[0m\u001b[0m\n\u001b[1;32m   1450\u001b[0m     \u001b[0;32mdef\u001b[0m \u001b[0mclose\u001b[0m\u001b[0;34m(\u001b[0m\u001b[0mself\u001b[0m\u001b[0;34m)\u001b[0m \u001b[0;34m->\u001b[0m \u001b[0;32mNone\u001b[0m\u001b[0;34m:\u001b[0m\u001b[0;34m\u001b[0m\u001b[0;34m\u001b[0m\u001b[0m\n",
            "\u001b[0;32m/usr/local/lib/python3.10/dist-packages/pandas/io/parsers/readers.py\u001b[0m in \u001b[0;36m_make_engine\u001b[0;34m(self, f, engine)\u001b[0m\n\u001b[1;32m   1703\u001b[0m                 \u001b[0;32mif\u001b[0m \u001b[0;34m\"b\"\u001b[0m \u001b[0;32mnot\u001b[0m \u001b[0;32min\u001b[0m \u001b[0mmode\u001b[0m\u001b[0;34m:\u001b[0m\u001b[0;34m\u001b[0m\u001b[0;34m\u001b[0m\u001b[0m\n\u001b[1;32m   1704\u001b[0m                     \u001b[0mmode\u001b[0m \u001b[0;34m+=\u001b[0m \u001b[0;34m\"b\"\u001b[0m\u001b[0;34m\u001b[0m\u001b[0;34m\u001b[0m\u001b[0m\n\u001b[0;32m-> 1705\u001b[0;31m             self.handles = get_handle(\n\u001b[0m\u001b[1;32m   1706\u001b[0m                 \u001b[0mf\u001b[0m\u001b[0;34m,\u001b[0m\u001b[0;34m\u001b[0m\u001b[0;34m\u001b[0m\u001b[0m\n\u001b[1;32m   1707\u001b[0m                 \u001b[0mmode\u001b[0m\u001b[0;34m,\u001b[0m\u001b[0;34m\u001b[0m\u001b[0;34m\u001b[0m\u001b[0m\n",
            "\u001b[0;32m/usr/local/lib/python3.10/dist-packages/pandas/io/common.py\u001b[0m in \u001b[0;36mget_handle\u001b[0;34m(path_or_buf, mode, encoding, compression, memory_map, is_text, errors, storage_options)\u001b[0m\n\u001b[1;32m    861\u001b[0m         \u001b[0;32mif\u001b[0m \u001b[0mioargs\u001b[0m\u001b[0;34m.\u001b[0m\u001b[0mencoding\u001b[0m \u001b[0;32mand\u001b[0m \u001b[0;34m\"b\"\u001b[0m \u001b[0;32mnot\u001b[0m \u001b[0;32min\u001b[0m \u001b[0mioargs\u001b[0m\u001b[0;34m.\u001b[0m\u001b[0mmode\u001b[0m\u001b[0;34m:\u001b[0m\u001b[0;34m\u001b[0m\u001b[0;34m\u001b[0m\u001b[0m\n\u001b[1;32m    862\u001b[0m             \u001b[0;31m# Encoding\u001b[0m\u001b[0;34m\u001b[0m\u001b[0;34m\u001b[0m\u001b[0m\n\u001b[0;32m--> 863\u001b[0;31m             handle = open(\n\u001b[0m\u001b[1;32m    864\u001b[0m                 \u001b[0mhandle\u001b[0m\u001b[0;34m,\u001b[0m\u001b[0;34m\u001b[0m\u001b[0;34m\u001b[0m\u001b[0m\n\u001b[1;32m    865\u001b[0m                 \u001b[0mioargs\u001b[0m\u001b[0;34m.\u001b[0m\u001b[0mmode\u001b[0m\u001b[0;34m,\u001b[0m\u001b[0;34m\u001b[0m\u001b[0;34m\u001b[0m\u001b[0m\n",
            "\u001b[0;31mFileNotFoundError\u001b[0m: [Errno 2] No such file or directory: 'D:\\\\Semester 3\\\\IPSD-Assigment\\\\Movie_classification.csv'"
          ]
        }
      ]
    },
    {
      "cell_type": "code",
      "source": [
        "data.dropna() function in pandas removes all rows with missing values\n",
        "    data.dropna(inplance=True)"
      ],
      "metadata": {
        "colab": {
          "base_uri": "https://localhost:8080/",
          "height": 106
        },
        "id": "kbnH8s00ziHC",
        "outputId": "000240fb-035d-4bdd-8deb-2bd5015ef047"
      },
      "execution_count": null,
      "outputs": [
        {
          "output_type": "error",
          "ename": "SyntaxError",
          "evalue": "invalid syntax (<ipython-input-1-924cfd8bf31e>, line 1)",
          "traceback": [
            "\u001b[0;36m  File \u001b[0;32m\"<ipython-input-1-924cfd8bf31e>\"\u001b[0;36m, line \u001b[0;32m1\u001b[0m\n\u001b[0;31m    data.dropna() function in pandas removes all rows with missing values\u001b[0m\n\u001b[0m                  ^\u001b[0m\n\u001b[0;31mSyntaxError\u001b[0m\u001b[0;31m:\u001b[0m invalid syntax\n"
          ]
        }
      ]
    },
    {
      "cell_type": "code",
      "source": [],
      "metadata": {
        "id": "0Ny28exFDKGZ"
      },
      "execution_count": null,
      "outputs": []
    },
    {
      "cell_type": "code",
      "source": [
        "import pandas as pd\n",
        "\n",
        "import numpy as np\n",
        "\n",
        "data = {'A': [1, 2, np.nan, 4], 'B': [5, np.nan, 7, 8]}\n",
        "\n",
        "df = pd.DataFrame(data)\n",
        "\n",
        "print(df.isnull().sum())"
      ],
      "metadata": {
        "colab": {
          "base_uri": "https://localhost:8080/"
        },
        "id": "iy83bDe5u7sz",
        "outputId": "15fa38ff-4531-478c-8d33-60c421dfeeec"
      },
      "execution_count": null,
      "outputs": [
        {
          "output_type": "stream",
          "name": "stdout",
          "text": [
            "A    1\n",
            "B    1\n",
            "dtype: int64\n"
          ]
        }
      ]
    },
    {
      "cell_type": "code",
      "source": [
        "x = 10\n",
        "\n",
        "def outer():\n",
        "\n",
        "    x = 5\n",
        "\n",
        "    def inner():\n",
        "\n",
        "        nonlocal x\n",
        "\n",
        "        x = 20\n",
        "\n",
        "    inner()\n",
        "\n",
        "    return x\n",
        "\n",
        "\n",
        "\n",
        "print(outer())"
      ],
      "metadata": {
        "colab": {
          "base_uri": "https://localhost:8080/"
        },
        "id": "PlGkO5zfvk24",
        "outputId": "ce6db605-3384-480c-91b7-1d188cdc9000"
      },
      "execution_count": null,
      "outputs": [
        {
          "output_type": "stream",
          "name": "stdout",
          "text": [
            "20\n"
          ]
        }
      ]
    },
    {
      "cell_type": "code",
      "source": [
        "import numpy as np\n",
        "\n",
        "data = [3, 2, 1, 5, 5]\n",
        "\n",
        "print(np.median(data))"
      ],
      "metadata": {
        "colab": {
          "base_uri": "https://localhost:8080/"
        },
        "id": "FVSQaepewXl6",
        "outputId": "d7667c75-c988-4542-d68f-4dbd353fd60b"
      },
      "execution_count": null,
      "outputs": [
        {
          "output_type": "stream",
          "name": "stdout",
          "text": [
            "3.0\n"
          ]
        }
      ]
    },
    {
      "cell_type": "code",
      "source": [
        "def func(a, b):\n",
        "\n",
        "    return a if a > b else b\n",
        "\n",
        "\n",
        "\n",
        "x = func(3, 7)\n",
        "\n",
        "print(x)"
      ],
      "metadata": {
        "colab": {
          "base_uri": "https://localhost:8080/"
        },
        "id": "yYYkmUWjw8mC",
        "outputId": "034b3dd4-7387-4210-f3f2-ab583dcfccdb"
      },
      "execution_count": null,
      "outputs": [
        {
          "output_type": "stream",
          "name": "stdout",
          "text": [
            "7\n"
          ]
        }
      ]
    },
    {
      "cell_type": "code",
      "source": [
        "def multiply(a, b=5):\n",
        "\n",
        "    return a * b\n",
        "\n",
        "result = multiply(3)\n",
        "\n",
        "print(result)"
      ],
      "metadata": {
        "colab": {
          "base_uri": "https://localhost:8080/"
        },
        "id": "ujFbPaNbxOEL",
        "outputId": "cf602490-fe98-458e-9ad0-9cf5c86c6f44"
      },
      "execution_count": null,
      "outputs": [
        {
          "output_type": "stream",
          "name": "stdout",
          "text": [
            "15\n"
          ]
        }
      ]
    },
    {
      "cell_type": "code",
      "source": [
        "import seaborn as sns\n",
        "\n",
        "import pandas as pd\n",
        "\n",
        "\n",
        "\n",
        "data = [1, 2, 2, 3, 3, 4, 5, 5, 5]\n",
        "\n",
        "sns.histplot(data)\n",
        "\n",
        "plt.show()"
      ],
      "metadata": {
        "colab": {
          "base_uri": "https://localhost:8080/",
          "height": 598
        },
        "id": "iIWQxDJbxXs_",
        "outputId": "1524de29-1f15-4b3e-f3a2-0b547e03417a"
      },
      "execution_count": null,
      "outputs": [
        {
          "output_type": "error",
          "ename": "NameError",
          "evalue": "name 'plt' is not defined",
          "traceback": [
            "\u001b[0;31m---------------------------------------------------------------------------\u001b[0m",
            "\u001b[0;31mNameError\u001b[0m                                 Traceback (most recent call last)",
            "\u001b[0;32m<ipython-input-6-c75c9e23fafd>\u001b[0m in \u001b[0;36m<cell line: 11>\u001b[0;34m()\u001b[0m\n\u001b[1;32m      9\u001b[0m \u001b[0msns\u001b[0m\u001b[0;34m.\u001b[0m\u001b[0mhistplot\u001b[0m\u001b[0;34m(\u001b[0m\u001b[0mdata\u001b[0m\u001b[0;34m)\u001b[0m\u001b[0;34m\u001b[0m\u001b[0;34m\u001b[0m\u001b[0m\n\u001b[1;32m     10\u001b[0m \u001b[0;34m\u001b[0m\u001b[0m\n\u001b[0;32m---> 11\u001b[0;31m \u001b[0mplt\u001b[0m\u001b[0;34m.\u001b[0m\u001b[0mshow\u001b[0m\u001b[0;34m(\u001b[0m\u001b[0;34m)\u001b[0m\u001b[0;34m\u001b[0m\u001b[0;34m\u001b[0m\u001b[0m\n\u001b[0m",
            "\u001b[0;31mNameError\u001b[0m: name 'plt' is not defined"
          ]
        },
        {
          "output_type": "display_data",
          "data": {
            "text/plain": [
              "<Figure size 640x480 with 1 Axes>"
            ],
            "image/png": "[encoded data removed]"
          },
          "metadata": {}
        }
      ]
    },
    {
      "cell_type": "markdown",
      "source": [
        "ini no 13"
      ],
      "metadata": {
        "id": "AYS6jks0xsbz"
      }
    },
    {
      "cell_type": "code",
      "source": [
        "def factorial(n):\n",
        "\n",
        "    if n == 0:\n",
        "\n",
        "        return 1\n",
        "\n",
        "    else:\n",
        "\n",
        "        return n * factorial(n-1)\n",
        "\n",
        "\n",
        "\n",
        "print(factorial(5))"
      ],
      "metadata": {
        "colab": {
          "base_uri": "https://localhost:8080/"
        },
        "id": "fpsIzdmCxwF9",
        "outputId": "4d9b4326-9640-4756-b223-82f07f018f62"
      },
      "execution_count": null,
      "outputs": [
        {
          "output_type": "stream",
          "name": "stdout",
          "text": [
            "120\n"
          ]
        }
      ]
    },
    {
      "cell_type": "code",
      "source": [
        "import seaborn as sns\n",
        "\n",
        "import pandas as pd\n",
        "\n",
        "\n",
        "\n",
        "df = sns.load_dataset('iris')\n",
        "\n",
        "sns.pairplot(df)\n",
        "\n",
        "plt.show()\n",
        "\n"
      ],
      "metadata": {
        "colab": {
          "base_uri": "https://localhost:8080/",
          "height": 1000
        },
        "id": "J48NqWOpx3o_",
        "outputId": "399d039f-60a7-4f65-f905-585ebc701e44"
      },
      "execution_count": null,
      "outputs": [
        {
          "output_type": "error",
          "ename": "NameError",
          "evalue": "name 'plt' is not defined",
          "traceback": [
            "\u001b[0;31m---------------------------------------------------------------------------\u001b[0m",
            "\u001b[0;31mNameError\u001b[0m                                 Traceback (most recent call last)",
            "\u001b[0;32m<ipython-input-9-09e0a9752426>\u001b[0m in \u001b[0;36m<cell line: 11>\u001b[0;34m()\u001b[0m\n\u001b[1;32m      9\u001b[0m \u001b[0msns\u001b[0m\u001b[0;34m.\u001b[0m\u001b[0mpairplot\u001b[0m\u001b[0;34m(\u001b[0m\u001b[0mdf\u001b[0m\u001b[0;34m)\u001b[0m\u001b[0;34m\u001b[0m\u001b[0;34m\u001b[0m\u001b[0m\n\u001b[1;32m     10\u001b[0m \u001b[0;34m\u001b[0m\u001b[0m\n\u001b[0;32m---> 11\u001b[0;31m \u001b[0mplt\u001b[0m\u001b[0;34m.\u001b[0m\u001b[0mshow\u001b[0m\u001b[0;34m(\u001b[0m\u001b[0;34m)\u001b[0m\u001b[0;34m\u001b[0m\u001b[0;34m\u001b[0m\u001b[0m\n\u001b[0m\u001b[1;32m     12\u001b[0m \u001b[0;34m\u001b[0m\u001b[0m\n",
            "\u001b[0;31mNameError\u001b[0m: name 'plt' is not defined"
          ]
        },
        {
          "output_type": "display_data",
          "data": {
            "text/plain": [
              "<Figure size 1000x1000 with 20 Axes>"
            ],
            "image/png": "[encoded data removed]"
          },
          "metadata": {}
        }
      ]
    },
    {
      "cell_type": "code",
      "source": [
        "import pandas as pd\n",
        "\n",
        "df = pd.DataFrame({'A': [1, 2, None, 4], 'B': [5, None, 7, 8]})\n",
        "\n",
        "df.fillna(0, inplace=True)\n",
        "\n",
        "print(df)"
      ],
      "metadata": {
        "colab": {
          "base_uri": "https://localhost:8080/"
        },
        "id": "u2bh9fL4yspU",
        "outputId": "fa1905b2-dff3-4fa6-9e3f-ec2e5fe94433"
      },
      "execution_count": null,
      "outputs": [
        {
          "output_type": "stream",
          "name": "stdout",
          "text": [
            "     A    B\n",
            "0  1.0  5.0\n",
            "1  2.0  0.0\n",
            "2  0.0  7.0\n",
            "3  4.0  8.0\n"
          ]
        }
      ]
    },
    {
      "cell_type": "code",
      "source": [
        "x = 5\n",
        "\n",
        "y = 10\n",
        "\n",
        "print(x + y)"
      ],
      "metadata": {
        "colab": {
          "base_uri": "https://localhost:8080/"
        },
        "id": "-_VwpsOVy72N",
        "outputId": "91ba5e1c-ac0f-4784-88dd-3d53f4fd263a"
      },
      "execution_count": null,
      "outputs": [
        {
          "output_type": "stream",
          "name": "stdout",
          "text": [
            "15\n"
          ]
        }
      ]
    },
    {
      "cell_type": "code",
      "source": [
        "my_list = [1, 2, 3]\n",
        "\n",
        "my_list.append([4, 5])\n",
        "\n",
        "print(len(my_list))"
      ],
      "metadata": {
        "colab": {
          "base_uri": "https://localhost:8080/"
        },
        "id": "MUpjP8bxzFua",
        "outputId": "b65571da-e39e-44b9-863c-6d5126cd9511"
      },
      "execution_count": null,
      "outputs": [
        {
          "output_type": "stream",
          "name": "stdout",
          "text": [
            "4\n"
          ]
        }
      ]
    },
    {
      "cell_type": "code",
      "source": [
        "df = pd.DataFrame({'A': [1, 2, 3], 'B': [4, 5, 6]})\n",
        "\n",
        "scaler = StandardScaler()\n",
        "\n",
        "scaled_df = scaler.fit_transform(df)\n",
        "\n",
        "print(scaled_df)"
      ],
      "metadata": {
        "colab": {
          "base_uri": "https://localhost:8080/",
          "height": 222
        },
        "id": "MSXfxFfMzYwV",
        "outputId": "eae692ca-a165-4268-ee4e-6308305da5aa"
      },
      "execution_count": null,
      "outputs": [
        {
          "output_type": "error",
          "ename": "NameError",
          "evalue": "name 'StandardScaler' is not defined",
          "traceback": [
            "\u001b[0;31m---------------------------------------------------------------------------\u001b[0m",
            "\u001b[0;31mNameError\u001b[0m                                 Traceback (most recent call last)",
            "\u001b[0;32m<ipython-input-14-8064fa803573>\u001b[0m in \u001b[0;36m<cell line: 3>\u001b[0;34m()\u001b[0m\n\u001b[1;32m      1\u001b[0m \u001b[0mdf\u001b[0m \u001b[0;34m=\u001b[0m \u001b[0mpd\u001b[0m\u001b[0;34m.\u001b[0m\u001b[0mDataFrame\u001b[0m\u001b[0;34m(\u001b[0m\u001b[0;34m{\u001b[0m\u001b[0;34m'A'\u001b[0m\u001b[0;34m:\u001b[0m \u001b[0;34m[\u001b[0m\u001b[0;36m1\u001b[0m\u001b[0;34m,\u001b[0m \u001b[0;36m2\u001b[0m\u001b[0;34m,\u001b[0m \u001b[0;36m3\u001b[0m\u001b[0;34m]\u001b[0m\u001b[0;34m,\u001b[0m \u001b[0;34m'B'\u001b[0m\u001b[0;34m:\u001b[0m \u001b[0;34m[\u001b[0m\u001b[0;36m4\u001b[0m\u001b[0;34m,\u001b[0m \u001b[0;36m5\u001b[0m\u001b[0;34m,\u001b[0m \u001b[0;36m6\u001b[0m\u001b[0;34m]\u001b[0m\u001b[0;34m}\u001b[0m\u001b[0;34m)\u001b[0m\u001b[0;34m\u001b[0m\u001b[0;34m\u001b[0m\u001b[0m\n\u001b[1;32m      2\u001b[0m \u001b[0;34m\u001b[0m\u001b[0m\n\u001b[0;32m----> 3\u001b[0;31m \u001b[0mscaler\u001b[0m \u001b[0;34m=\u001b[0m \u001b[0mStandardScaler\u001b[0m\u001b[0;34m(\u001b[0m\u001b[0;34m)\u001b[0m\u001b[0;34m\u001b[0m\u001b[0;34m\u001b[0m\u001b[0m\n\u001b[0m\u001b[1;32m      4\u001b[0m \u001b[0;34m\u001b[0m\u001b[0m\n\u001b[1;32m      5\u001b[0m \u001b[0mscaled_df\u001b[0m \u001b[0;34m=\u001b[0m \u001b[0mscaler\u001b[0m\u001b[0;34m.\u001b[0m\u001b[0mfit_transform\u001b[0m\u001b[0;34m(\u001b[0m\u001b[0mdf\u001b[0m\u001b[0;34m)\u001b[0m\u001b[0;34m\u001b[0m\u001b[0;34m\u001b[0m\u001b[0m\n",
            "\u001b[0;31mNameError\u001b[0m: name 'StandardScaler' is not defined"
          ]
        }
      ]
    },
    {
      "cell_type": "code",
      "source": [
        "import pandas as pd\n",
        "\n",
        "data = {'A': [1, 1, 1, 2, 2, 3], 'B': [10, 15, 10, 20, 25, 30]}\n",
        "\n",
        "df = pd.DataFrame(data)\n",
        "\n",
        "grouped = df.groupby('A').mean()\n",
        "\n",
        "print(grouped)"
      ],
      "metadata": {
        "colab": {
          "base_uri": "https://localhost:8080/"
        },
        "id": "uwqxHIlt1LRd",
        "outputId": "668d8cc2-347d-4b6f-c025-a89a59d7ef47"
      },
      "execution_count": null,
      "outputs": [
        {
          "output_type": "stream",
          "name": "stdout",
          "text": [
            "           B\n",
            "A           \n",
            "1  11.666667\n",
            "2  22.500000\n",
            "3  30.000000\n"
          ]
        }
      ]
    },
    {
      "cell_type": "code",
      "source": [
        "import pandas as pd\n",
        "\n",
        "data = {'col1': [1, 2, 3], 'col2': [4, 5, 6]}\n",
        "\n",
        "df = pd.DataFrame(data)\n",
        "\n",
        "print(df.head(2))"
      ],
      "metadata": {
        "colab": {
          "base_uri": "https://localhost:8080/"
        },
        "id": "XWqVg8AV1Qvm",
        "outputId": "4e5eeb6e-3c7f-4708-b9c0-355f36474396"
      },
      "execution_count": null,
      "outputs": [
        {
          "output_type": "stream",
          "name": "stdout",
          "text": [
            "   col1  col2\n",
            "0     1     4\n",
            "1     2     5\n"
          ]
        }
      ]
    },
    {
      "cell_type": "code",
      "source": [
        "Fungsi `describe()` dalam pandas digunakan untuk:\n",
        "\n",
        "\n",
        "Question 33Select one:\n",
        "A.\n",
        "Menampilkan grafik histogram\n",
        "\n",
        "\n",
        "B.\n",
        "Membuat scatter plot\n",
        "\n",
        "C.\n",
        "Menghitung korelasi antar kolom\n",
        "\n",
        "\n",
        "D.\n",
        "Menampilkan statistik deskriptif dasar"
      ],
      "metadata": {
        "colab": {
          "base_uri": "https://localhost:8080/",
          "height": 111
        },
        "id": "IIHIVxNi1hA0",
        "outputId": "d85c8eee-ca5e-47b6-f39d-8918ddd5254a"
      },
      "execution_count": null,
      "outputs": [
        {
          "output_type": "error",
          "ename": "SyntaxError",
          "evalue": "invalid decimal literal (<ipython-input-17-d919baf6c66a>, line 4)",
          "traceback": [
            "\u001b[0;36m  File \u001b[0;32m\"<ipython-input-17-d919baf6c66a>\"\u001b[0;36m, line \u001b[0;32m4\u001b[0m\n\u001b[0;31m    Question 33Select one:\u001b[0m\n\u001b[0m              ^\u001b[0m\n\u001b[0;31mSyntaxError\u001b[0m\u001b[0;31m:\u001b[0m invalid decimal literal\n"
          ]
        }
      ]
    },
    {
      "cell_type": "code",
      "source": [
        "import pandas as pd\n",
        "\n",
        "data = {'A': [1, 2, 3, 4], 'B': [5, 6, 7, 8]}\n",
        "\n",
        "df = pd.DataFrame(data)\n",
        "\n",
        "print(df.groupby('A').sum())"
      ],
      "metadata": {
        "colab": {
          "base_uri": "https://localhost:8080/"
        },
        "id": "v3n-toXX10q_",
        "outputId": "c95d9d16-3df4-41bc-eed6-f214dd54d084"
      },
      "execution_count": null,
      "outputs": [
        {
          "output_type": "stream",
          "name": "stdout",
          "text": [
            "   B\n",
            "A   \n",
            "1  5\n",
            "2  6\n",
            "3  7\n",
            "4  8\n"
          ]
        }
      ]
    },
    {
      "cell_type": "code",
      "source": [
        "import math\n",
        "\n",
        "def calculate_circle_area(favorite_number):\n",
        "    radius = favorite_number\n",
        "    area = math.pi * radius ** 2\n",
        "    return area\n",
        "\n",
        "# Meminta input dari pengguna\n",
        "name = input(\"Masukkan nama: \")\n",
        "nim = input(\"Masukkan NIM: \")\n",
        "favorite_number = int(input(\"Masukkan angka favorit: \"))\n",
        "\n",
        "# Menghitung luas lingkaran\n",
        "circle_area = calculate_circle_area(favorite_number)\n",
        "\n",
        "# Menampilkan output\n",
        "print(\"Nama:\", name)\n",
        "print(\"NIM:\", nim)\n",
        "print(\"Luas lingkaran berdasarkan angka favorit:\", circle_area)"
      ],
      "metadata": {
        "colab": {
          "base_uri": "https://localhost:8080/"
        },
        "id": "nrGP-WOs58Np",
        "outputId": "21ae2591-7df3-4069-a249-4f326d555df2"
      },
      "execution_count": null,
      "outputs": [
        {
          "output_type": "stream",
          "name": "stdout",
          "text": [
            "Masukkan nama: Raisha\n",
            "Masukkan NIM: 2311110002\n",
            "Masukkan angka favorit: 8\n",
            "Nama: Raisha\n",
            "NIM: 2311110002\n",
            "Luas lingkaran berdasarkan angka favorit: 201.06192982974676\n"
          ]
        }
      ]
    },
    {
      "cell_type": "code",
      "source": [
        "import datetime\n",
        "\n",
        "def calculate_age(birth_date):\n",
        "    today = datetime.date.today()\n",
        "    age = today.year - birth_date.year\n",
        "    if today.month < birth_date.month or (today.month == birth_date.month and today.day < birth_date.day):\n",
        "        age -= 1\n",
        "    return age\n",
        "\n",
        "def calculate_circle_area(radius):\n",
        "    return 3.14 * radius * radius\n",
        "\n",
        "# Menerima input dari pengguna\n",
        "name = input(\"Masukkan nama: \")\n",
        "nim = input(\"Masukkan NIM: \")\n",
        "\n",
        "# Menerima input tanggal lahir atau usia\n",
        "print(\"Pilih opsi input:\")\n",
        "print(\"1. Tanggal lahir\")\n",
        "print(\"2. Usia\")\n",
        "option = int(input(\"Masukkan pilihan (1/2): \"))\n",
        "\n",
        "if option == 1:\n",
        "    birth_date = input(\"Masukkan tanggal lahir (YYYY-MM-DD): \")\n",
        "    birth_date = datetime.datetime.strptime(birth_date, \"%Y-%m-%d\").date()\n",
        "    age = calculate_age(birth_date)\n",
        "    print(\"Usia:\", age)\n",
        "\n",
        "    # Tambahkan 5 poin jika input berupa tanggal lahir\n",
        "    favorite_number = int(input(\"Masukkan angka favorit: \")) + 5\n",
        "else:\n",
        "    age = int(input(\"Masukkan usia: \"))\n",
        "    favorite_number = int(input(\"Masukkan angka favorit: \"))\n",
        "\n",
        "# Hitung luas lingkaran\n",
        "circle_area = calculate_circle_area(favorite_number)\n",
        "\n",
        "# Menampilkan output\n",
        "print(\"Nama:\", name)\n",
        "print(\"NIM:\", nim)\n",
        "print(\"Usia:\", age)\n",
        "print(\"Luas lingkaran berdasarkan angka favorit:\", circle_area)"
      ],
      "metadata": {
        "colab": {
          "base_uri": "https://localhost:8080/"
        },
        "id": "GOCC0Udq6RhL",
        "outputId": "13e81b15-fd59-4fe9-9cd0-fe2a6261df05"
      },
      "execution_count": null,
      "outputs": [
        {
          "output_type": "stream",
          "name": "stdout",
          "text": [
            "Masukkan nama: Raisha Amalia\n",
            "Masukkan NIM: 2311110002\n",
            "Pilih opsi input:\n",
            "1. Tanggal lahir\n",
            "2. Usia\n",
            "Masukkan pilihan (1/2): 1\n",
            "Masukkan tanggal lahir (YYYY-MM-DD): 2005-03-23\n",
            "Usia: 19\n",
            "Masukkan angka favorit: 8\n",
            "Nama: Raisha Amalia\n",
            "NIM: 2311110002\n",
            "Usia: 19\n",
            "Luas lingkaran berdasarkan angka favorit: 530.66\n"
          ]
        }
      ]
    },
    {
      "cell_type": "code",
      "source": [
        "import pandas as pd\n",
        "import matplotlib.pyplot as plt\n",
        "import seaborn as sns\n",
        "\n",
        "# Baca data dari file CSV\n",
        "data = pd.read_csv('data genangan air Surabaya.csv')\n",
        "\n",
        "# Konversi kolom yang diperlukan menjadi float\n",
        "data['Luas genangan'] = data['Luas genangan'].astype(float)\n",
        "data['Skor Luas Genangan'] = data['Skor Luas Genangan'].astype(float)\n",
        "data['Lama genangan'] = data['Lama genangan'].astype(float)\n",
        "\n",
        "# Hubungan antara Luas Genangan dan Skor Genangan\n",
        "plt.figure(figsize=(12, 5))\n",
        "\n",
        "# Scatter plot\n",
        "plt.subplot(1, 2, 1)\n",
        "sns.scatterplot(x='Luas genangan', y='Skor Luas Genangan', data=data)\n",
        "plt.title('Hubungan antara Luas Genangan dan Skor Genangan')\n",
        "plt.xlabel('Luas Genangan')\n",
        "plt.ylabel('Skor Luas Genangan')\n",
        "\n",
        "# Hubungan antara Luas Genangan dan Lama Genangan\n",
        "plt.subplot(1, 2, 2)\n",
        "sns.scatterplot(x='Luas genangan', y='Lama genangan', data=data)\n",
        "plt.title('Hubungan antara Luas Genangan dan Lama Genangan')\n",
        "plt.xlabel('Luas Genangan')\n",
        "plt.ylabel('Lama Genangan')\n",
        "\n",
        "plt.tight_layout()\n",
        "plt.show()\n",
        "\n",
        "# Hitung koefisien korelasi\n",
        "kor_luas_skor = data['Luas genangan'].corr(data['Skor Luas Genangan'])\n",
        "kor_luas_lama = data['Luas genangan'].corr(data['Lama genangan'])\n",
        "\n",
        "print(f'Koefisien Korelasi antara Luas Genangan dan Skor Genangan: {kor_luas_skor:.2f}')\n",
        "print(f'Koefisien Korelasi antara Luas Genangan dan Lama Genangan: {kor_luas_lama:.2f}')"
      ],
      "metadata": {
        "colab": {
          "base_uri": "https://localhost:8080/",
          "height": 393
        },
        "id": "5krTRCMd9aFV",
        "outputId": "6d43fdde-0a7d-4ef8-9752-3eb7bc00352c"
      },
      "execution_count": null,
      "outputs": [
        {
          "output_type": "error",
          "ename": "FileNotFoundError",
          "evalue": "[Errno 2] No such file or directory: 'data genangan air Surabaya.csv'",
          "traceback": [
            "\u001b[0;31m---------------------------------------------------------------------------\u001b[0m",
            "\u001b[0;31mFileNotFoundError\u001b[0m                         Traceback (most recent call last)",
            "\u001b[0;32m<ipython-input-1-a3b2b6f11c0c>\u001b[0m in \u001b[0;36m<cell line: 6>\u001b[0;34m()\u001b[0m\n\u001b[1;32m      4\u001b[0m \u001b[0;34m\u001b[0m\u001b[0m\n\u001b[1;32m      5\u001b[0m \u001b[0;31m# Baca data dari file CSV\u001b[0m\u001b[0;34m\u001b[0m\u001b[0;34m\u001b[0m\u001b[0m\n\u001b[0;32m----> 6\u001b[0;31m \u001b[0mdata\u001b[0m \u001b[0;34m=\u001b[0m \u001b[0mpd\u001b[0m\u001b[0;34m.\u001b[0m\u001b[0mread_csv\u001b[0m\u001b[0;34m(\u001b[0m\u001b[0;34m'data genangan air Surabaya.csv'\u001b[0m\u001b[0;34m)\u001b[0m\u001b[0;34m\u001b[0m\u001b[0;34m\u001b[0m\u001b[0m\n\u001b[0m\u001b[1;32m      7\u001b[0m \u001b[0;34m\u001b[0m\u001b[0m\n\u001b[1;32m      8\u001b[0m \u001b[0;31m# Konversi kolom yang diperlukan menjadi float\u001b[0m\u001b[0;34m\u001b[0m\u001b[0;34m\u001b[0m\u001b[0m\n",
            "\u001b[0;32m/usr/local/lib/python3.10/dist-packages/pandas/io/parsers/readers.py\u001b[0m in \u001b[0;36mread_csv\u001b[0;34m(filepath_or_buffer, sep, delimiter, header, names, index_col, usecols, dtype, engine, converters, true_values, false_values, skipinitialspace, skiprows, skipfooter, nrows, na_values, keep_default_na, na_filter, verbose, skip_blank_lines, parse_dates, infer_datetime_format, keep_date_col, date_parser, date_format, dayfirst, cache_dates, iterator, chunksize, compression, thousands, decimal, lineterminator, quotechar, quoting, doublequote, escapechar, comment, encoding, encoding_errors, dialect, on_bad_lines, delim_whitespace, low_memory, memory_map, float_precision, storage_options, dtype_backend)\u001b[0m\n\u001b[1;32m   1024\u001b[0m     \u001b[0mkwds\u001b[0m\u001b[0;34m.\u001b[0m\u001b[0mupdate\u001b[0m\u001b[0;34m(\u001b[0m\u001b[0mkwds_defaults\u001b[0m\u001b[0;34m)\u001b[0m\u001b[0;34m\u001b[0m\u001b[0;34m\u001b[0m\u001b[0m\n\u001b[1;32m   1025\u001b[0m \u001b[0;34m\u001b[0m\u001b[0m\n\u001b[0;32m-> 1026\u001b[0;31m     \u001b[0;32mreturn\u001b[0m \u001b[0m_read\u001b[0m\u001b[0;34m(\u001b[0m\u001b[0mfilepath_or_buffer\u001b[0m\u001b[0;34m,\u001b[0m \u001b[0mkwds\u001b[0m\u001b[0;34m)\u001b[0m\u001b[0;34m\u001b[0m\u001b[0;34m\u001b[0m\u001b[0m\n\u001b[0m\u001b[1;32m   1027\u001b[0m \u001b[0;34m\u001b[0m\u001b[0m\n\u001b[1;32m   1028\u001b[0m \u001b[0;34m\u001b[0m\u001b[0m\n",
            "\u001b[0;32m/usr/local/lib/python3.10/dist-packages/pandas/io/parsers/readers.py\u001b[0m in \u001b[0;36m_read\u001b[0;34m(filepath_or_buffer, kwds)\u001b[0m\n\u001b[1;32m    618\u001b[0m \u001b[0;34m\u001b[0m\u001b[0m\n\u001b[1;32m    619\u001b[0m     \u001b[0;31m# Create the parser.\u001b[0m\u001b[0;34m\u001b[0m\u001b[0;34m\u001b[0m\u001b[0m\n\u001b[0;32m--> 620\u001b[0;31m     \u001b[0mparser\u001b[0m \u001b[0;34m=\u001b[0m \u001b[0mTextFileReader\u001b[0m\u001b[0;34m(\u001b[0m\u001b[0mfilepath_or_buffer\u001b[0m\u001b[0;34m,\u001b[0m \u001b[0;34m**\u001b[0m\u001b[0mkwds\u001b[0m\u001b[0;34m)\u001b[0m\u001b[0;34m\u001b[0m\u001b[0;34m\u001b[0m\u001b[0m\n\u001b[0m\u001b[1;32m    621\u001b[0m \u001b[0;34m\u001b[0m\u001b[0m\n\u001b[1;32m    622\u001b[0m     \u001b[0;32mif\u001b[0m \u001b[0mchunksize\u001b[0m \u001b[0;32mor\u001b[0m \u001b[0miterator\u001b[0m\u001b[0;34m:\u001b[0m\u001b[0;34m\u001b[0m\u001b[0;34m\u001b[0m\u001b[0m\n",
            "\u001b[0;32m/usr/local/lib/python3.10/dist-packages/pandas/io/parsers/readers.py\u001b[0m in \u001b[0;36m__init__\u001b[0;34m(self, f, engine, **kwds)\u001b[0m\n\u001b[1;32m   1618\u001b[0m \u001b[0;34m\u001b[0m\u001b[0m\n\u001b[1;32m   1619\u001b[0m         \u001b[0mself\u001b[0m\u001b[0;34m.\u001b[0m\u001b[0mhandles\u001b[0m\u001b[0;34m:\u001b[0m \u001b[0mIOHandles\u001b[0m \u001b[0;34m|\u001b[0m \u001b[0;32mNone\u001b[0m \u001b[0;34m=\u001b[0m \u001b[0;32mNone\u001b[0m\u001b[0;34m\u001b[0m\u001b[0;34m\u001b[0m\u001b[0m\n\u001b[0;32m-> 1620\u001b[0;31m         \u001b[0mself\u001b[0m\u001b[0;34m.\u001b[0m\u001b[0m_engine\u001b[0m \u001b[0;34m=\u001b[0m \u001b[0mself\u001b[0m\u001b[0;34m.\u001b[0m\u001b[0m_make_engine\u001b[0m\u001b[0;34m(\u001b[0m\u001b[0mf\u001b[0m\u001b[0;34m,\u001b[0m \u001b[0mself\u001b[0m\u001b[0;34m.\u001b[0m\u001b[0mengine\u001b[0m\u001b[0;34m)\u001b[0m\u001b[0;34m\u001b[0m\u001b[0;34m\u001b[0m\u001b[0m\n\u001b[0m\u001b[1;32m   1621\u001b[0m \u001b[0;34m\u001b[0m\u001b[0m\n\u001b[1;32m   1622\u001b[0m     \u001b[0;32mdef\u001b[0m \u001b[0mclose\u001b[0m\u001b[0;34m(\u001b[0m\u001b[0mself\u001b[0m\u001b[0;34m)\u001b[0m \u001b[0;34m->\u001b[0m \u001b[0;32mNone\u001b[0m\u001b[0;34m:\u001b[0m\u001b[0;34m\u001b[0m\u001b[0;34m\u001b[0m\u001b[0m\n",
            "\u001b[0;32m/usr/local/lib/python3.10/dist-packages/pandas/io/parsers/readers.py\u001b[0m in \u001b[0;36m_make_engine\u001b[0;34m(self, f, engine)\u001b[0m\n\u001b[1;32m   1878\u001b[0m                 \u001b[0;32mif\u001b[0m \u001b[0;34m\"b\"\u001b[0m \u001b[0;32mnot\u001b[0m \u001b[0;32min\u001b[0m \u001b[0mmode\u001b[0m\u001b[0;34m:\u001b[0m\u001b[0;34m\u001b[0m\u001b[0;34m\u001b[0m\u001b[0m\n\u001b[1;32m   1879\u001b[0m                     \u001b[0mmode\u001b[0m \u001b[0;34m+=\u001b[0m \u001b[0;34m\"b\"\u001b[0m\u001b[0;34m\u001b[0m\u001b[0;34m\u001b[0m\u001b[0m\n\u001b[0;32m-> 1880\u001b[0;31m             self.handles = get_handle(\n\u001b[0m\u001b[1;32m   1881\u001b[0m                 \u001b[0mf\u001b[0m\u001b[0;34m,\u001b[0m\u001b[0;34m\u001b[0m\u001b[0;34m\u001b[0m\u001b[0m\n\u001b[1;32m   1882\u001b[0m                 \u001b[0mmode\u001b[0m\u001b[0;34m,\u001b[0m\u001b[0;34m\u001b[0m\u001b[0;34m\u001b[0m\u001b[0m\n",
            "\u001b[0;32m/usr/local/lib/python3.10/dist-packages/pandas/io/common.py\u001b[0m in \u001b[0;36mget_handle\u001b[0;34m(path_or_buf, mode, encoding, compression, memory_map, is_text, errors, storage_options)\u001b[0m\n\u001b[1;32m    871\u001b[0m         \u001b[0;32mif\u001b[0m \u001b[0mioargs\u001b[0m\u001b[0;34m.\u001b[0m\u001b[0mencoding\u001b[0m \u001b[0;32mand\u001b[0m \u001b[0;34m\"b\"\u001b[0m \u001b[0;32mnot\u001b[0m \u001b[0;32min\u001b[0m \u001b[0mioargs\u001b[0m\u001b[0;34m.\u001b[0m\u001b[0mmode\u001b[0m\u001b[0;34m:\u001b[0m\u001b[0;34m\u001b[0m\u001b[0;34m\u001b[0m\u001b[0m\n\u001b[1;32m    872\u001b[0m             \u001b[0;31m# Encoding\u001b[0m\u001b[0;34m\u001b[0m\u001b[0;34m\u001b[0m\u001b[0m\n\u001b[0;32m--> 873\u001b[0;31m             handle = open(\n\u001b[0m\u001b[1;32m    874\u001b[0m                 \u001b[0mhandle\u001b[0m\u001b[0;34m,\u001b[0m\u001b[0;34m\u001b[0m\u001b[0;34m\u001b[0m\u001b[0m\n\u001b[1;32m    875\u001b[0m                 \u001b[0mioargs\u001b[0m\u001b[0;34m.\u001b[0m\u001b[0mmode\u001b[0m\u001b[0;34m,\u001b[0m\u001b[0;34m\u001b[0m\u001b[0;34m\u001b[0m\u001b[0m\n",
            "\u001b[0;31mFileNotFoundError\u001b[0m: [Errno 2] No such file or directory: 'data genangan air Surabaya.csv'"
          ]
        }
      ]
    },
    {
      "cell_type": "code",
      "source": [
        "import pandas as pd\n",
        "import matplotlib.pyplot as plt\n",
        "import seaborn as sns\n",
        "\n",
        "# Baca data dari file CSV\n",
        "data = pd.read_csv('data genangan air Surabaya.csv')\n",
        "\n",
        "# Konversi kolom yang diperlukan menjadi float\n",
        "data['Luas genangan'] = data['Luas genangan'].astype(float)\n",
        "data['Skor Luas Genangan'] = data['Skor Luas Genangan'].astype(float)\n",
        "data['Lama genangan'] = data['Lama genangan'].astype(float)\n",
        "\n",
        "# Hubungan antara Luas Genangan dan Skor Genangan\n",
        "plt.figure(figsize=(12, 5))\n",
        "\n",
        "# Scatter plot\n",
        "plt.subplot(1, 2, 1)\n",
        "sns.scatterplot(x='Luas genangan', y='Skor Luas Genangan', data=data)\n",
        "plt.title('Hubungan antara Luas Genangan dan Skor Genangan')\n",
        "plt.xlabel('Luas Genangan')\n",
        "plt.ylabel('Skor Luas Genangan')\n",
        "\n",
        "# Hubungan antara Luas Genangan dan Lama Genangan\n",
        "plt.subplot(1, 2, 2)\n",
        "sns.scatterplot(x='Luas genangan', y='Lama genangan', data=data)\n",
        "plt.title('Hubungan antara Luas Genangan dan Lama Genangan')\n",
        "plt.xlabel('Luas Genangan')\n",
        "plt.ylabel('Lama Genangan')\n",
        "\n",
        "plt.tight_layout()\n",
        "plt.show()\n",
        "\n",
        "# Hitung koefisien korelasi\n",
        "kor_luas_skor = data['Luas genangan'].corr(data['Skor Luas Genangan'])\n",
        "kor_luas_lama = data['Luas genangan'].corr(data['Lama genangan'])\n",
        "\n",
        "print(f'Koefisien Korelasi antara Luas Genangan dan Skor Genangan: {kor_luas_skor:.2f}')\n",
        "print(f'Koefisien Korelasi antara Luas Genangan dan Lama Genangan: {kor_luas_lama:.2f}')"
      ],
      "metadata": {
        "colab": {
          "base_uri": "https://localhost:8080/",
          "height": 505
        },
        "id": "wKPBfFDX9nVu",
        "outputId": "aeef872e-9fa9-47d6-b836-b4650aaea9db"
      },
      "execution_count": null,
      "outputs": [
        {
          "output_type": "display_data",
          "data": {
            "text/plain": [
              "<Figure size 1200x500 with 2 Axes>"
            ],
            "image/png": "[encoded data removed]"
          },
          "metadata": {}
        },
        {
          "output_type": "stream",
          "name": "stdout",
          "text": [
            "Koefisien Korelasi antara Luas Genangan dan Skor Genangan: 0.67\n",
            "Koefisien Korelasi antara Luas Genangan dan Lama Genangan: 0.07\n"
          ]
        }
      ]
    },
    {
      "cell_type": "code",
      "source": [
        "import pandas as pd\n",
        "\n",
        "# Membaca data\n",
        "data = pd.read_csv('data genangan_air_Surabaya.csv', sep=';')\n",
        "print(data.head())"
      ],
      "metadata": {
        "id": "0pK66GThDttj",
        "outputId": "931217cc-7be2-48f6-b3d1-6f3d806a0959",
        "colab": {
          "base_uri": "https://localhost:8080/",
          "height": 375
        }
      },
      "execution_count": null,
      "outputs": [
        {
          "output_type": "error",
          "ename": "FileNotFoundError",
          "evalue": "[Errno 2] No such file or directory: 'data genangan_air_Surabaya.csv'",
          "traceback": [
            "\u001b[0;31m---------------------------------------------------------------------------\u001b[0m",
            "\u001b[0;31mFileNotFoundError\u001b[0m                         Traceback (most recent call last)",
            "\u001b[0;32m<ipython-input-5-1d7e12c23d2a>\u001b[0m in \u001b[0;36m<cell line: 4>\u001b[0;34m()\u001b[0m\n\u001b[1;32m      2\u001b[0m \u001b[0;34m\u001b[0m\u001b[0m\n\u001b[1;32m      3\u001b[0m \u001b[0;31m# Membaca data\u001b[0m\u001b[0;34m\u001b[0m\u001b[0;34m\u001b[0m\u001b[0m\n\u001b[0;32m----> 4\u001b[0;31m \u001b[0mdata\u001b[0m \u001b[0;34m=\u001b[0m \u001b[0mpd\u001b[0m\u001b[0;34m.\u001b[0m\u001b[0mread_csv\u001b[0m\u001b[0;34m(\u001b[0m\u001b[0;34m'data genangan_air_Surabaya.csv'\u001b[0m\u001b[0;34m,\u001b[0m \u001b[0msep\u001b[0m\u001b[0;34m=\u001b[0m\u001b[0;34m';'\u001b[0m\u001b[0;34m)\u001b[0m\u001b[0;34m\u001b[0m\u001b[0;34m\u001b[0m\u001b[0m\n\u001b[0m\u001b[1;32m      5\u001b[0m \u001b[0mprint\u001b[0m\u001b[0;34m(\u001b[0m\u001b[0mdata\u001b[0m\u001b[0;34m.\u001b[0m\u001b[0mhead\u001b[0m\u001b[0;34m(\u001b[0m\u001b[0;34m)\u001b[0m\u001b[0;34m)\u001b[0m\u001b[0;34m\u001b[0m\u001b[0;34m\u001b[0m\u001b[0m\n",
            "\u001b[0;32m/usr/local/lib/python3.10/dist-packages/pandas/io/parsers/readers.py\u001b[0m in \u001b[0;36mread_csv\u001b[0;34m(filepath_or_buffer, sep, delimiter, header, names, index_col, usecols, dtype, engine, converters, true_values, false_values, skipinitialspace, skiprows, skipfooter, nrows, na_values, keep_default_na, na_filter, verbose, skip_blank_lines, parse_dates, infer_datetime_format, keep_date_col, date_parser, date_format, dayfirst, cache_dates, iterator, chunksize, compression, thousands, decimal, lineterminator, quotechar, quoting, doublequote, escapechar, comment, encoding, encoding_errors, dialect, on_bad_lines, delim_whitespace, low_memory, memory_map, float_precision, storage_options, dtype_backend)\u001b[0m\n\u001b[1;32m   1024\u001b[0m     \u001b[0mkwds\u001b[0m\u001b[0;34m.\u001b[0m\u001b[0mupdate\u001b[0m\u001b[0;34m(\u001b[0m\u001b[0mkwds_defaults\u001b[0m\u001b[0;34m)\u001b[0m\u001b[0;34m\u001b[0m\u001b[0;34m\u001b[0m\u001b[0m\n\u001b[1;32m   1025\u001b[0m \u001b[0;34m\u001b[0m\u001b[0m\n\u001b[0;32m-> 1026\u001b[0;31m     \u001b[0;32mreturn\u001b[0m \u001b[0m_read\u001b[0m\u001b[0;34m(\u001b[0m\u001b[0mfilepath_or_buffer\u001b[0m\u001b[0;34m,\u001b[0m \u001b[0mkwds\u001b[0m\u001b[0;34m)\u001b[0m\u001b[0;34m\u001b[0m\u001b[0;34m\u001b[0m\u001b[0m\n\u001b[0m\u001b[1;32m   1027\u001b[0m \u001b[0;34m\u001b[0m\u001b[0m\n\u001b[1;32m   1028\u001b[0m \u001b[0;34m\u001b[0m\u001b[0m\n",
            "\u001b[0;32m/usr/local/lib/python3.10/dist-packages/pandas/io/parsers/readers.py\u001b[0m in \u001b[0;36m_read\u001b[0;34m(filepath_or_buffer, kwds)\u001b[0m\n\u001b[1;32m    618\u001b[0m \u001b[0;34m\u001b[0m\u001b[0m\n\u001b[1;32m    619\u001b[0m     \u001b[0;31m# Create the parser.\u001b[0m\u001b[0;34m\u001b[0m\u001b[0;34m\u001b[0m\u001b[0m\n\u001b[0;32m--> 620\u001b[0;31m     \u001b[0mparser\u001b[0m \u001b[0;34m=\u001b[0m \u001b[0mTextFileReader\u001b[0m\u001b[0;34m(\u001b[0m\u001b[0mfilepath_or_buffer\u001b[0m\u001b[0;34m,\u001b[0m \u001b[0;34m**\u001b[0m\u001b[0mkwds\u001b[0m\u001b[0;34m)\u001b[0m\u001b[0;34m\u001b[0m\u001b[0;34m\u001b[0m\u001b[0m\n\u001b[0m\u001b[1;32m    621\u001b[0m \u001b[0;34m\u001b[0m\u001b[0m\n\u001b[1;32m    622\u001b[0m     \u001b[0;32mif\u001b[0m \u001b[0mchunksize\u001b[0m \u001b[0;32mor\u001b[0m \u001b[0miterator\u001b[0m\u001b[0;34m:\u001b[0m\u001b[0;34m\u001b[0m\u001b[0;34m\u001b[0m\u001b[0m\n",
            "\u001b[0;32m/usr/local/lib/python3.10/dist-packages/pandas/io/parsers/readers.py\u001b[0m in \u001b[0;36m__init__\u001b[0;34m(self, f, engine, **kwds)\u001b[0m\n\u001b[1;32m   1618\u001b[0m \u001b[0;34m\u001b[0m\u001b[0m\n\u001b[1;32m   1619\u001b[0m         \u001b[0mself\u001b[0m\u001b[0;34m.\u001b[0m\u001b[0mhandles\u001b[0m\u001b[0;34m:\u001b[0m \u001b[0mIOHandles\u001b[0m \u001b[0;34m|\u001b[0m \u001b[0;32mNone\u001b[0m \u001b[0;34m=\u001b[0m \u001b[0;32mNone\u001b[0m\u001b[0;34m\u001b[0m\u001b[0;34m\u001b[0m\u001b[0m\n\u001b[0;32m-> 1620\u001b[0;31m         \u001b[0mself\u001b[0m\u001b[0;34m.\u001b[0m\u001b[0m_engine\u001b[0m \u001b[0;34m=\u001b[0m \u001b[0mself\u001b[0m\u001b[0;34m.\u001b[0m\u001b[0m_make_engine\u001b[0m\u001b[0;34m(\u001b[0m\u001b[0mf\u001b[0m\u001b[0;34m,\u001b[0m \u001b[0mself\u001b[0m\u001b[0;34m.\u001b[0m\u001b[0mengine\u001b[0m\u001b[0;34m)\u001b[0m\u001b[0;34m\u001b[0m\u001b[0;34m\u001b[0m\u001b[0m\n\u001b[0m\u001b[1;32m   1621\u001b[0m \u001b[0;34m\u001b[0m\u001b[0m\n\u001b[1;32m   1622\u001b[0m     \u001b[0;32mdef\u001b[0m \u001b[0mclose\u001b[0m\u001b[0;34m(\u001b[0m\u001b[0mself\u001b[0m\u001b[0;34m)\u001b[0m \u001b[0;34m->\u001b[0m \u001b[0;32mNone\u001b[0m\u001b[0;34m:\u001b[0m\u001b[0;34m\u001b[0m\u001b[0;34m\u001b[0m\u001b[0m\n",
            "\u001b[0;32m/usr/local/lib/python3.10/dist-packages/pandas/io/parsers/readers.py\u001b[0m in \u001b[0;36m_make_engine\u001b[0;34m(self, f, engine)\u001b[0m\n\u001b[1;32m   1878\u001b[0m                 \u001b[0;32mif\u001b[0m \u001b[0;34m\"b\"\u001b[0m \u001b[0;32mnot\u001b[0m \u001b[0;32min\u001b[0m \u001b[0mmode\u001b[0m\u001b[0;34m:\u001b[0m\u001b[0;34m\u001b[0m\u001b[0;34m\u001b[0m\u001b[0m\n\u001b[1;32m   1879\u001b[0m                     \u001b[0mmode\u001b[0m \u001b[0;34m+=\u001b[0m \u001b[0;34m\"b\"\u001b[0m\u001b[0;34m\u001b[0m\u001b[0;34m\u001b[0m\u001b[0m\n\u001b[0;32m-> 1880\u001b[0;31m             self.handles = get_handle(\n\u001b[0m\u001b[1;32m   1881\u001b[0m                 \u001b[0mf\u001b[0m\u001b[0;34m,\u001b[0m\u001b[0;34m\u001b[0m\u001b[0;34m\u001b[0m\u001b[0m\n\u001b[1;32m   1882\u001b[0m                 \u001b[0mmode\u001b[0m\u001b[0;34m,\u001b[0m\u001b[0;34m\u001b[0m\u001b[0;34m\u001b[0m\u001b[0m\n",
            "\u001b[0;32m/usr/local/lib/python3.10/dist-packages/pandas/io/common.py\u001b[0m in \u001b[0;36mget_handle\u001b[0;34m(path_or_buf, mode, encoding, compression, memory_map, is_text, errors, storage_options)\u001b[0m\n\u001b[1;32m    871\u001b[0m         \u001b[0;32mif\u001b[0m \u001b[0mioargs\u001b[0m\u001b[0;34m.\u001b[0m\u001b[0mencoding\u001b[0m \u001b[0;32mand\u001b[0m \u001b[0;34m\"b\"\u001b[0m \u001b[0;32mnot\u001b[0m \u001b[0;32min\u001b[0m \u001b[0mioargs\u001b[0m\u001b[0;34m.\u001b[0m\u001b[0mmode\u001b[0m\u001b[0;34m:\u001b[0m\u001b[0;34m\u001b[0m\u001b[0;34m\u001b[0m\u001b[0m\n\u001b[1;32m    872\u001b[0m             \u001b[0;31m# Encoding\u001b[0m\u001b[0;34m\u001b[0m\u001b[0;34m\u001b[0m\u001b[0m\n\u001b[0;32m--> 873\u001b[0;31m             handle = open(\n\u001b[0m\u001b[1;32m    874\u001b[0m                 \u001b[0mhandle\u001b[0m\u001b[0;34m,\u001b[0m\u001b[0;34m\u001b[0m\u001b[0;34m\u001b[0m\u001b[0m\n\u001b[1;32m    875\u001b[0m                 \u001b[0mioargs\u001b[0m\u001b[0;34m.\u001b[0m\u001b[0mmode\u001b[0m\u001b[0;34m,\u001b[0m\u001b[0;34m\u001b[0m\u001b[0;34m\u001b[0m\u001b[0m\n",
            "\u001b[0;31mFileNotFoundError\u001b[0m: [Errno 2] No such file or directory: 'data genangan_air_Surabaya.csv'"
          ]
        }
      ]
    },
    {
      "cell_type": "code",
      "source": [],
      "metadata": {
        "id": "itAATG53OYK1"
      },
      "execution_count": null,
      "outputs": []
    }
  ]
}